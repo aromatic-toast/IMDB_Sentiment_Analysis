{
 "cells": [
  {
   "cell_type": "markdown",
   "metadata": {},
   "source": [
    "# Sentiment Prediction on IMDB \n",
    "\n",
    "**The Plan**\n",
    "\n",
    "Compare `CountVectorizer` to `Doc2Vec` using 2-3 different classifiers models to predict movie review sentiment label. \n",
    "- Logistic Regression \n",
    "- SVM\n",
    "- Random Forest\n"
   ]
  },
  {
   "cell_type": "markdown",
   "metadata": {},
   "source": [
    "## import packages "
   ]
  },
  {
   "cell_type": "code",
   "execution_count": 1,
   "metadata": {},
   "outputs": [],
   "source": [
    "import pandas as pd\n",
    "from time import time\n",
    "import sys\n",
    "sys.path.append(\"/Users/lesleymi/data_science_tutorials/IMDB_Sentiment_Analysis/src\")\n",
    "import imdb_functions as imdb\n",
    "\n",
    "# models \n",
    "from sklearn.linear_model import LogisticRegression\n",
    "from sklearn.svm import SVC\n",
    "from sklearn.ensemble import RandomForestClassifier\n",
    "\n",
    "# evaluation \n",
    "from sklearn.metrics import confusion_matrix\n",
    "from sklearn.metrics import plot_confusion_matrix\n",
    "from sklearn.metrics import precision_recall_fscore_support"
   ]
  },
  {
   "cell_type": "markdown",
   "metadata": {},
   "source": [
    "## load data "
   ]
  },
  {
   "cell_type": "markdown",
   "metadata": {},
   "source": [
    "### train"
   ]
  },
  {
   "cell_type": "code",
   "execution_count": 22,
   "metadata": {},
   "outputs": [],
   "source": [
    "# load extracted doc2vec vectors \n",
    "X_train = pd.read_csv(\"data/train_d2v.csv\").drop(labels='Unnamed: 0', axis=1)\n",
    "y_train = pd.read_csv('data/Train.csv').label"
   ]
  },
  {
   "cell_type": "code",
   "execution_count": 23,
   "metadata": {},
   "outputs": [
    {
     "data": {
      "text/html": [
       "<div>\n",
       "<style scoped>\n",
       "    .dataframe tbody tr th:only-of-type {\n",
       "        vertical-align: middle;\n",
       "    }\n",
       "\n",
       "    .dataframe tbody tr th {\n",
       "        vertical-align: top;\n",
       "    }\n",
       "\n",
       "    .dataframe thead th {\n",
       "        text-align: right;\n",
       "    }\n",
       "</style>\n",
       "<table border=\"1\" class=\"dataframe\">\n",
       "  <thead>\n",
       "    <tr style=\"text-align: right;\">\n",
       "      <th></th>\n",
       "      <th>dim_0</th>\n",
       "      <th>dim_1</th>\n",
       "      <th>dim_2</th>\n",
       "      <th>dim_3</th>\n",
       "      <th>dim_4</th>\n",
       "      <th>dim_5</th>\n",
       "      <th>dim_6</th>\n",
       "      <th>dim_7</th>\n",
       "      <th>dim_8</th>\n",
       "      <th>dim_9</th>\n",
       "      <th>...</th>\n",
       "      <th>dim_90</th>\n",
       "      <th>dim_91</th>\n",
       "      <th>dim_92</th>\n",
       "      <th>dim_93</th>\n",
       "      <th>dim_94</th>\n",
       "      <th>dim_95</th>\n",
       "      <th>dim_96</th>\n",
       "      <th>dim_97</th>\n",
       "      <th>dim_98</th>\n",
       "      <th>dim_99</th>\n",
       "    </tr>\n",
       "  </thead>\n",
       "  <tbody>\n",
       "    <tr>\n",
       "      <th>0</th>\n",
       "      <td>-0.081147</td>\n",
       "      <td>-0.812462</td>\n",
       "      <td>-0.365505</td>\n",
       "      <td>0.840091</td>\n",
       "      <td>0.028956</td>\n",
       "      <td>0.422929</td>\n",
       "      <td>-0.175895</td>\n",
       "      <td>-0.481343</td>\n",
       "      <td>0.147237</td>\n",
       "      <td>-0.010143</td>\n",
       "      <td>...</td>\n",
       "      <td>0.188548</td>\n",
       "      <td>0.462908</td>\n",
       "      <td>0.117806</td>\n",
       "      <td>-1.013064</td>\n",
       "      <td>-0.433103</td>\n",
       "      <td>-0.031341</td>\n",
       "      <td>-1.231887</td>\n",
       "      <td>0.950093</td>\n",
       "      <td>0.239684</td>\n",
       "      <td>0.937017</td>\n",
       "    </tr>\n",
       "    <tr>\n",
       "      <th>1</th>\n",
       "      <td>0.657423</td>\n",
       "      <td>0.345021</td>\n",
       "      <td>0.400715</td>\n",
       "      <td>0.293076</td>\n",
       "      <td>-0.415254</td>\n",
       "      <td>-0.514342</td>\n",
       "      <td>-0.185605</td>\n",
       "      <td>-0.046682</td>\n",
       "      <td>-0.226956</td>\n",
       "      <td>0.254316</td>\n",
       "      <td>...</td>\n",
       "      <td>-0.258261</td>\n",
       "      <td>0.691419</td>\n",
       "      <td>0.196938</td>\n",
       "      <td>0.517854</td>\n",
       "      <td>-0.682640</td>\n",
       "      <td>-0.317824</td>\n",
       "      <td>-0.490037</td>\n",
       "      <td>0.628256</td>\n",
       "      <td>0.138785</td>\n",
       "      <td>1.113321</td>\n",
       "    </tr>\n",
       "  </tbody>\n",
       "</table>\n",
       "<p>2 rows × 100 columns</p>\n",
       "</div>"
      ],
      "text/plain": [
       "      dim_0     dim_1     dim_2     dim_3     dim_4     dim_5     dim_6  \\\n",
       "0 -0.081147 -0.812462 -0.365505  0.840091  0.028956  0.422929 -0.175895   \n",
       "1  0.657423  0.345021  0.400715  0.293076 -0.415254 -0.514342 -0.185605   \n",
       "\n",
       "      dim_7     dim_8     dim_9  ...    dim_90    dim_91    dim_92    dim_93  \\\n",
       "0 -0.481343  0.147237 -0.010143  ...  0.188548  0.462908  0.117806 -1.013064   \n",
       "1 -0.046682 -0.226956  0.254316  ... -0.258261  0.691419  0.196938  0.517854   \n",
       "\n",
       "     dim_94    dim_95    dim_96    dim_97    dim_98    dim_99  \n",
       "0 -0.433103 -0.031341 -1.231887  0.950093  0.239684  0.937017  \n",
       "1 -0.682640 -0.317824 -0.490037  0.628256  0.138785  1.113321  \n",
       "\n",
       "[2 rows x 100 columns]"
      ]
     },
     "execution_count": 23,
     "metadata": {},
     "output_type": "execute_result"
    }
   ],
   "source": [
    "X_train.head(2)"
   ]
  },
  {
   "cell_type": "markdown",
   "metadata": {},
   "source": [
    "### validation "
   ]
  },
  {
   "cell_type": "code",
   "execution_count": 24,
   "metadata": {},
   "outputs": [],
   "source": [
    "# load d2v vectors for valid set \n",
    "X_valid = pd.read_csv(\"data/valid_d2v.csv\").drop(labels='Unnamed: 0', axis=1)\n",
    "y_valid = pd.read_csv(\"data/Valid.csv\").label"
   ]
  },
  {
   "cell_type": "code",
   "execution_count": 25,
   "metadata": {},
   "outputs": [
    {
     "data": {
      "text/html": [
       "<div>\n",
       "<style scoped>\n",
       "    .dataframe tbody tr th:only-of-type {\n",
       "        vertical-align: middle;\n",
       "    }\n",
       "\n",
       "    .dataframe tbody tr th {\n",
       "        vertical-align: top;\n",
       "    }\n",
       "\n",
       "    .dataframe thead th {\n",
       "        text-align: right;\n",
       "    }\n",
       "</style>\n",
       "<table border=\"1\" class=\"dataframe\">\n",
       "  <thead>\n",
       "    <tr style=\"text-align: right;\">\n",
       "      <th></th>\n",
       "      <th>dim_0</th>\n",
       "      <th>dim_1</th>\n",
       "      <th>dim_2</th>\n",
       "      <th>dim_3</th>\n",
       "      <th>dim_4</th>\n",
       "      <th>dim_5</th>\n",
       "      <th>dim_6</th>\n",
       "      <th>dim_7</th>\n",
       "      <th>dim_8</th>\n",
       "      <th>dim_9</th>\n",
       "      <th>...</th>\n",
       "      <th>dim_90</th>\n",
       "      <th>dim_91</th>\n",
       "      <th>dim_92</th>\n",
       "      <th>dim_93</th>\n",
       "      <th>dim_94</th>\n",
       "      <th>dim_95</th>\n",
       "      <th>dim_96</th>\n",
       "      <th>dim_97</th>\n",
       "      <th>dim_98</th>\n",
       "      <th>dim_99</th>\n",
       "    </tr>\n",
       "  </thead>\n",
       "  <tbody>\n",
       "    <tr>\n",
       "      <th>0</th>\n",
       "      <td>0.140037</td>\n",
       "      <td>-0.384942</td>\n",
       "      <td>0.017407</td>\n",
       "      <td>-0.283626</td>\n",
       "      <td>-0.519167</td>\n",
       "      <td>0.081174</td>\n",
       "      <td>0.318546</td>\n",
       "      <td>-0.370915</td>\n",
       "      <td>0.081888</td>\n",
       "      <td>-0.612242</td>\n",
       "      <td>...</td>\n",
       "      <td>-0.283497</td>\n",
       "      <td>0.274552</td>\n",
       "      <td>0.374042</td>\n",
       "      <td>-0.747882</td>\n",
       "      <td>-0.106644</td>\n",
       "      <td>-0.088393</td>\n",
       "      <td>-0.643465</td>\n",
       "      <td>0.619472</td>\n",
       "      <td>-0.260349</td>\n",
       "      <td>0.170316</td>\n",
       "    </tr>\n",
       "    <tr>\n",
       "      <th>1</th>\n",
       "      <td>-0.076081</td>\n",
       "      <td>-0.052235</td>\n",
       "      <td>-0.573520</td>\n",
       "      <td>0.581987</td>\n",
       "      <td>-0.169022</td>\n",
       "      <td>-0.028190</td>\n",
       "      <td>-0.387456</td>\n",
       "      <td>-0.253191</td>\n",
       "      <td>0.855759</td>\n",
       "      <td>-0.609575</td>\n",
       "      <td>...</td>\n",
       "      <td>-0.244684</td>\n",
       "      <td>-0.036304</td>\n",
       "      <td>0.377817</td>\n",
       "      <td>-0.542965</td>\n",
       "      <td>0.039536</td>\n",
       "      <td>0.020657</td>\n",
       "      <td>-0.504114</td>\n",
       "      <td>0.156678</td>\n",
       "      <td>-0.580269</td>\n",
       "      <td>0.364869</td>\n",
       "    </tr>\n",
       "  </tbody>\n",
       "</table>\n",
       "<p>2 rows × 100 columns</p>\n",
       "</div>"
      ],
      "text/plain": [
       "      dim_0     dim_1     dim_2     dim_3     dim_4     dim_5     dim_6  \\\n",
       "0  0.140037 -0.384942  0.017407 -0.283626 -0.519167  0.081174  0.318546   \n",
       "1 -0.076081 -0.052235 -0.573520  0.581987 -0.169022 -0.028190 -0.387456   \n",
       "\n",
       "      dim_7     dim_8     dim_9  ...    dim_90    dim_91    dim_92    dim_93  \\\n",
       "0 -0.370915  0.081888 -0.612242  ... -0.283497  0.274552  0.374042 -0.747882   \n",
       "1 -0.253191  0.855759 -0.609575  ... -0.244684 -0.036304  0.377817 -0.542965   \n",
       "\n",
       "     dim_94    dim_95    dim_96    dim_97    dim_98    dim_99  \n",
       "0 -0.106644 -0.088393 -0.643465  0.619472 -0.260349  0.170316  \n",
       "1  0.039536  0.020657 -0.504114  0.156678 -0.580269  0.364869  \n",
       "\n",
       "[2 rows x 100 columns]"
      ]
     },
     "execution_count": 25,
     "metadata": {},
     "output_type": "execute_result"
    }
   ],
   "source": [
    "X_valid.head(2)"
   ]
  },
  {
   "cell_type": "markdown",
   "metadata": {},
   "source": [
    "## Doc2Vec Version 1\n",
    "\n",
    "**Vector Averaging**\n",
    "\n",
    "The document vectors used in the first iteration of `doc2vec` used the default averaging of the paragraph vector to the context vectors before completing the task \n",
    "of predicting the next word in the sequence. "
   ]
  },
  {
   "cell_type": "markdown",
   "metadata": {},
   "source": [
    "### Logistic Regression \n"
   ]
  },
  {
   "cell_type": "markdown",
   "metadata": {},
   "source": [
    "#### train set "
   ]
  },
  {
   "cell_type": "code",
   "execution_count": 72,
   "metadata": {},
   "outputs": [
    {
     "name": "stdout",
     "output_type": "stream",
     "text": [
      "training time for logistic regression... 0.17 seconds\n"
     ]
    }
   ],
   "source": [
    "start = time()\n",
    "lr = LogisticRegression(random_state=0).fit(X_train, y_train)\n",
    "stop = time()\n",
    "print(\"training time for logistic regression... {} seconds\".format(round(stop - start, 2)))"
   ]
  },
  {
   "cell_type": "code",
   "execution_count": 73,
   "metadata": {},
   "outputs": [
    {
     "name": "stdout",
     "output_type": "stream",
     "text": [
      "Train accuracy: 86.0 %\n"
     ]
    }
   ],
   "source": [
    "acc = round(lr.score(X_train, y_train), 2)*100\n",
    "print('Train accuracy: {} %'.format(acc))"
   ]
  },
  {
   "cell_type": "code",
   "execution_count": 74,
   "metadata": {},
   "outputs": [
    {
     "data": {
      "text/plain": [
       "<sklearn.metrics._plot.confusion_matrix.ConfusionMatrixDisplay at 0x12bd87940>"
      ]
     },
     "execution_count": 74,
     "metadata": {},
     "output_type": "execute_result"
    },
    {
     "data": {
      "image/png": "[encoded data removed]",
      "text/plain": [
       "<Figure size 432x288 with 2 Axes>"
      ]
     },
     "metadata": {
      "needs_background": "light"
     },
     "output_type": "display_data"
    }
   ],
   "source": [
    "### confusion matrix\n",
    "plot_confusion_matrix(estimator=lr, X=X_train, y_true=y_train)"
   ]
  },
  {
   "cell_type": "code",
   "execution_count": 75,
   "metadata": {},
   "outputs": [
    {
     "data": {
      "text/plain": [
       "(array([0.85802222, 0.85642921]),\n",
       " array([0.85643639, 0.85801511]),\n",
       " array([0.85722857, 0.85722143]),\n",
       " array([20019, 19981]))"
      ]
     },
     "execution_count": 75,
     "metadata": {},
     "output_type": "execute_result"
    }
   ],
   "source": [
    "# get model predictions \n",
    "y_pred = lr.predict(X_train)\n",
    "metrics = precision_recall_fscore_support(y_true=y_train, y_pred=y_pred)\n",
    "metrics"
   ]
  },
  {
   "cell_type": "code",
   "execution_count": 76,
   "metadata": {},
   "outputs": [
    {
     "data": {
      "text/html": [
       "<div>\n",
       "<style scoped>\n",
       "    .dataframe tbody tr th:only-of-type {\n",
       "        vertical-align: middle;\n",
       "    }\n",
       "\n",
       "    .dataframe tbody tr th {\n",
       "        vertical-align: top;\n",
       "    }\n",
       "\n",
       "    .dataframe thead th {\n",
       "        text-align: right;\n",
       "    }\n",
       "</style>\n",
       "<table border=\"1\" class=\"dataframe\">\n",
       "  <thead>\n",
       "    <tr style=\"text-align: right;\">\n",
       "      <th></th>\n",
       "      <th>neg_reviews</th>\n",
       "      <th>pos_reivews</th>\n",
       "    </tr>\n",
       "  </thead>\n",
       "  <tbody>\n",
       "    <tr>\n",
       "      <th>precision</th>\n",
       "      <td>0.858022</td>\n",
       "      <td>0.856429</td>\n",
       "    </tr>\n",
       "    <tr>\n",
       "      <th>recall</th>\n",
       "      <td>0.856436</td>\n",
       "      <td>0.858015</td>\n",
       "    </tr>\n",
       "    <tr>\n",
       "      <th>f1_score</th>\n",
       "      <td>0.857229</td>\n",
       "      <td>0.857221</td>\n",
       "    </tr>\n",
       "    <tr>\n",
       "      <th>count_of_reviews</th>\n",
       "      <td>20019.000000</td>\n",
       "      <td>19981.000000</td>\n",
       "    </tr>\n",
       "  </tbody>\n",
       "</table>\n",
       "</div>"
      ],
      "text/plain": [
       "                   neg_reviews   pos_reivews\n",
       "precision             0.858022      0.856429\n",
       "recall                0.856436      0.858015\n",
       "f1_score              0.857229      0.857221\n",
       "count_of_reviews  20019.000000  19981.000000"
      ]
     },
     "execution_count": 76,
     "metadata": {},
     "output_type": "execute_result"
    }
   ],
   "source": [
    "imdb.display_metrics(metrics)"
   ]
  },
  {
   "cell_type": "markdown",
   "metadata": {},
   "source": [
    "#### validation set "
   ]
  },
  {
   "cell_type": "code",
   "execution_count": 77,
   "metadata": {},
   "outputs": [
    {
     "name": "stdout",
     "output_type": "stream",
     "text": [
      "Validation accuracy: 86.0 %\n"
     ]
    }
   ],
   "source": [
    "acc = round(lr.score(X_valid, y_valid), 2)*100\n",
    "print('Validation accuracy: {} %'.format(acc))"
   ]
  },
  {
   "cell_type": "code",
   "execution_count": 78,
   "metadata": {},
   "outputs": [
    {
     "data": {
      "text/plain": [
       "<sklearn.metrics._plot.confusion_matrix.ConfusionMatrixDisplay at 0x12c0a7460>"
      ]
     },
     "execution_count": 78,
     "metadata": {},
     "output_type": "execute_result"
    },
    {
     "data": {
      "image/png": "[encoded data removed]",
      "text/plain": [
       "<Figure size 432x288 with 2 Axes>"
      ]
     },
     "metadata": {
      "needs_background": "light"
     },
     "output_type": "display_data"
    }
   ],
   "source": [
    "### confusion matrix\n",
    "plot_confusion_matrix(estimator=lr, X=X_valid, y_true=y_valid)"
   ]
  },
  {
   "cell_type": "code",
   "execution_count": 79,
   "metadata": {},
   "outputs": [
    {
     "data": {
      "text/html": [
       "<div>\n",
       "<style scoped>\n",
       "    .dataframe tbody tr th:only-of-type {\n",
       "        vertical-align: middle;\n",
       "    }\n",
       "\n",
       "    .dataframe tbody tr th {\n",
       "        vertical-align: top;\n",
       "    }\n",
       "\n",
       "    .dataframe thead th {\n",
       "        text-align: right;\n",
       "    }\n",
       "</style>\n",
       "<table border=\"1\" class=\"dataframe\">\n",
       "  <thead>\n",
       "    <tr style=\"text-align: right;\">\n",
       "      <th></th>\n",
       "      <th>neg_reviews</th>\n",
       "      <th>pos_reivews</th>\n",
       "    </tr>\n",
       "  </thead>\n",
       "  <tbody>\n",
       "    <tr>\n",
       "      <th>precision</th>\n",
       "      <td>0.850060</td>\n",
       "      <td>0.861638</td>\n",
       "    </tr>\n",
       "    <tr>\n",
       "      <th>recall</th>\n",
       "      <td>0.862027</td>\n",
       "      <td>0.849642</td>\n",
       "    </tr>\n",
       "    <tr>\n",
       "      <th>f1_score</th>\n",
       "      <td>0.856002</td>\n",
       "      <td>0.855598</td>\n",
       "    </tr>\n",
       "    <tr>\n",
       "      <th>count_of_reviews</th>\n",
       "      <td>2486.000000</td>\n",
       "      <td>2514.000000</td>\n",
       "    </tr>\n",
       "  </tbody>\n",
       "</table>\n",
       "</div>"
      ],
      "text/plain": [
       "                  neg_reviews  pos_reivews\n",
       "precision            0.850060     0.861638\n",
       "recall               0.862027     0.849642\n",
       "f1_score             0.856002     0.855598\n",
       "count_of_reviews  2486.000000  2514.000000"
      ]
     },
     "execution_count": 79,
     "metadata": {},
     "output_type": "execute_result"
    }
   ],
   "source": [
    "y_valid_pred = lr.predict(X_valid)\n",
    "metrics = precision_recall_fscore_support(y_true=y_valid, y_pred=y_valid_pred)\n",
    "imdb.display_metrics(metrics)"
   ]
  },
  {
   "cell_type": "markdown",
   "metadata": {},
   "source": [
    "#### Summary \n",
    "**Logistic regression** \n",
    "\n",
    "For **negative** reviews, the precision is 72% meaning that when the classifier predicts the positive label, it correctly identifies the negative review 72% of the time. The recall is much higher at 95%. Out of the truly negative reviews, the classifier correctly identifies them 95% of the time. \n",
    "\n",
    "For **positive** reviews, the precision is much higher at ~ 93%. But the recall is much lower at 64% meaning that out of the positive reviews, the classifier correctly identifies that it is positive 64% of the time. \n",
    "\n",
    "F1 score for **negative** reviews is 82% and the F1 score for **positive** reviews is ~ 76%. So overall, before any hyperparameter tuning, the `Logistic Regression` model performs better at identifying **negative** reviews. "
   ]
  },
  {
   "cell_type": "markdown",
   "metadata": {},
   "source": [
    "### Support Vector Machine \n",
    "\n"
   ]
  },
  {
   "cell_type": "markdown",
   "metadata": {},
   "source": [
    "#### train set "
   ]
  },
  {
   "cell_type": "code",
   "execution_count": 80,
   "metadata": {},
   "outputs": [
    {
     "name": "stdout",
     "output_type": "stream",
     "text": [
      "training time for support vector machine: 235.65 seconds.\n"
     ]
    }
   ],
   "source": [
    "start = time()\n",
    "svc = SVC(random_state=0).fit(X_train, y_train)\n",
    "stop = time()\n",
    "print(\"training time for support vector machine: {} seconds.\".format(round((stop - start), 2)))"
   ]
  },
  {
   "cell_type": "code",
   "execution_count": 81,
   "metadata": {},
   "outputs": [
    {
     "name": "stdout",
     "output_type": "stream",
     "text": [
      "training time for support vector machine: 3.93 minutes.\n"
     ]
    }
   ],
   "source": [
    "train_time = round((stop - start)/60, 2)\n",
    "print('training time for support vector machine: {} minutes.'.format(train_time))"
   ]
  },
  {
   "cell_type": "markdown",
   "metadata": {},
   "source": [
    "**Note:**\n",
    "\n",
    "**The train accuracy score and the plot of the confusion matrix each took a few minutes each to compute! In contrast to logistic regression which was practically instantaneous.**"
   ]
  },
  {
   "cell_type": "code",
   "execution_count": 82,
   "metadata": {},
   "outputs": [
    {
     "name": "stdout",
     "output_type": "stream",
     "text": [
      "Train accuracy: 92.0 %\n"
     ]
    }
   ],
   "source": [
    "acc = round(svc.score(X_train, y_train), 2)*100\n",
    "print('Train accuracy: {} %'.format(acc))"
   ]
  },
  {
   "cell_type": "code",
   "execution_count": 83,
   "metadata": {},
   "outputs": [
    {
     "data": {
      "text/plain": [
       "<sklearn.metrics._plot.confusion_matrix.ConfusionMatrixDisplay at 0x12c01d670>"
      ]
     },
     "execution_count": 83,
     "metadata": {},
     "output_type": "execute_result"
    },
    {
     "data": {
      "image/png": "[encoded data removed]",
      "text/plain": [
       "<Figure size 432x288 with 2 Axes>"
      ]
     },
     "metadata": {
      "needs_background": "light"
     },
     "output_type": "display_data"
    }
   ],
   "source": [
    "### confusion matrix\n",
    "plot_confusion_matrix(estimator=svc, X=X_train, y_true=y_train)"
   ]
  },
  {
   "cell_type": "code",
   "execution_count": 84,
   "metadata": {},
   "outputs": [
    {
     "data": {
      "text/html": [
       "<div>\n",
       "<style scoped>\n",
       "    .dataframe tbody tr th:only-of-type {\n",
       "        vertical-align: middle;\n",
       "    }\n",
       "\n",
       "    .dataframe tbody tr th {\n",
       "        vertical-align: top;\n",
       "    }\n",
       "\n",
       "    .dataframe thead th {\n",
       "        text-align: right;\n",
       "    }\n",
       "</style>\n",
       "<table border=\"1\" class=\"dataframe\">\n",
       "  <thead>\n",
       "    <tr style=\"text-align: right;\">\n",
       "      <th></th>\n",
       "      <th>neg_reviews</th>\n",
       "      <th>pos_reivews</th>\n",
       "    </tr>\n",
       "  </thead>\n",
       "  <tbody>\n",
       "    <tr>\n",
       "      <th>precision</th>\n",
       "      <td>0.923544</td>\n",
       "      <td>0.920315</td>\n",
       "    </tr>\n",
       "    <tr>\n",
       "      <th>recall</th>\n",
       "      <td>0.920176</td>\n",
       "      <td>0.923677</td>\n",
       "    </tr>\n",
       "    <tr>\n",
       "      <th>f1_score</th>\n",
       "      <td>0.921857</td>\n",
       "      <td>0.921993</td>\n",
       "    </tr>\n",
       "    <tr>\n",
       "      <th>count_of_reviews</th>\n",
       "      <td>20019.000000</td>\n",
       "      <td>19981.000000</td>\n",
       "    </tr>\n",
       "  </tbody>\n",
       "</table>\n",
       "</div>"
      ],
      "text/plain": [
       "                   neg_reviews   pos_reivews\n",
       "precision             0.923544      0.920315\n",
       "recall                0.920176      0.923677\n",
       "f1_score              0.921857      0.921993\n",
       "count_of_reviews  20019.000000  19981.000000"
      ]
     },
     "execution_count": 84,
     "metadata": {},
     "output_type": "execute_result"
    }
   ],
   "source": [
    "# get model predictions \n",
    "y_pred = svc.predict(X_train)\n",
    "metrics = precision_recall_fscore_support(y_true=y_train, y_pred=y_pred)\n",
    "imdb.display_metrics(metrics)"
   ]
  },
  {
   "cell_type": "markdown",
   "metadata": {},
   "source": [
    "#### validation set "
   ]
  },
  {
   "cell_type": "code",
   "execution_count": 85,
   "metadata": {},
   "outputs": [
    {
     "name": "stdout",
     "output_type": "stream",
     "text": [
      "Validation accuracy: 86.0 %\n"
     ]
    }
   ],
   "source": [
    "acc = round(svc.score(X_valid, y_valid), 2)*100\n",
    "print('Validation accuracy: {} %'.format(acc))"
   ]
  },
  {
   "cell_type": "code",
   "execution_count": 86,
   "metadata": {},
   "outputs": [
    {
     "data": {
      "text/plain": [
       "<sklearn.metrics._plot.confusion_matrix.ConfusionMatrixDisplay at 0x12c13e6a0>"
      ]
     },
     "execution_count": 86,
     "metadata": {},
     "output_type": "execute_result"
    },
    {
     "data": {
      "image/png": "[encoded data removed]",
      "text/plain": [
       "<Figure size 432x288 with 2 Axes>"
      ]
     },
     "metadata": {
      "needs_background": "light"
     },
     "output_type": "display_data"
    }
   ],
   "source": [
    "### confusion matrix\n",
    "plot_confusion_matrix(estimator=svc, X=X_valid, y_true=y_valid)"
   ]
  },
  {
   "cell_type": "code",
   "execution_count": 87,
   "metadata": {},
   "outputs": [
    {
     "data": {
      "text/html": [
       "<div>\n",
       "<style scoped>\n",
       "    .dataframe tbody tr th:only-of-type {\n",
       "        vertical-align: middle;\n",
       "    }\n",
       "\n",
       "    .dataframe tbody tr th {\n",
       "        vertical-align: top;\n",
       "    }\n",
       "\n",
       "    .dataframe thead th {\n",
       "        text-align: right;\n",
       "    }\n",
       "</style>\n",
       "<table border=\"1\" class=\"dataframe\">\n",
       "  <thead>\n",
       "    <tr style=\"text-align: right;\">\n",
       "      <th></th>\n",
       "      <th>neg_reviews</th>\n",
       "      <th>pos_reivews</th>\n",
       "    </tr>\n",
       "  </thead>\n",
       "  <tbody>\n",
       "    <tr>\n",
       "      <th>precision</th>\n",
       "      <td>0.848932</td>\n",
       "      <td>0.876289</td>\n",
       "    </tr>\n",
       "    <tr>\n",
       "      <th>recall</th>\n",
       "      <td>0.879324</td>\n",
       "      <td>0.845267</td>\n",
       "    </tr>\n",
       "    <tr>\n",
       "      <th>f1_score</th>\n",
       "      <td>0.863861</td>\n",
       "      <td>0.860498</td>\n",
       "    </tr>\n",
       "    <tr>\n",
       "      <th>count_of_reviews</th>\n",
       "      <td>2486.000000</td>\n",
       "      <td>2514.000000</td>\n",
       "    </tr>\n",
       "  </tbody>\n",
       "</table>\n",
       "</div>"
      ],
      "text/plain": [
       "                  neg_reviews  pos_reivews\n",
       "precision            0.848932     0.876289\n",
       "recall               0.879324     0.845267\n",
       "f1_score             0.863861     0.860498\n",
       "count_of_reviews  2486.000000  2514.000000"
      ]
     },
     "execution_count": 87,
     "metadata": {},
     "output_type": "execute_result"
    }
   ],
   "source": [
    "y_valid_pred = svc.predict(X_valid)\n",
    "metrics = precision_recall_fscore_support(y_true=y_valid, y_pred=y_valid_pred)\n",
    "imdb.display_metrics(metrics)"
   ]
  },
  {
   "cell_type": "markdown",
   "metadata": {},
   "source": [
    "#### Summary "
   ]
  },
  {
   "cell_type": "markdown",
   "metadata": {},
   "source": [
    "Without any hyperparameter tuning `SVC` performs even better on the train set than `Logistic Regression` but even worse on the validation. There is a big gap in the accuracy between train and validation which indicates overfitting. But this model would probably benefit greatly from tuning. \n",
    "\n",
    "For the **Negative** reviews, the `SVC` has worse precision but slightly higher recall. For **Positive** reviews the precision is the same as before but the recall is far far worse (64% for LR vs 47% for SVC). \n",
    "\n",
    "SVC is still performing better on negative reviews over positive reviews but it performs worse on the validation set than `Logistic Regression`. However, the model needs a tuning before I'd really be able to compare fairly. "
   ]
  },
  {
   "cell_type": "markdown",
   "metadata": {},
   "source": [
    "### Random Forest"
   ]
  },
  {
   "cell_type": "markdown",
   "metadata": {},
   "source": [
    "#### train set "
   ]
  },
  {
   "cell_type": "code",
   "execution_count": 88,
   "metadata": {},
   "outputs": [
    {
     "name": "stdout",
     "output_type": "stream",
     "text": [
      "training time for random forest: 28.37 seconds.\n"
     ]
    }
   ],
   "source": [
    "start = time()\n",
    "rf = RandomForestClassifier(random_state=0).fit(X_train, y_train)\n",
    "stop = time()\n",
    "print(\"training time for random forest: {} seconds.\".format(round((stop - start), 2)))"
   ]
  },
  {
   "cell_type": "code",
   "execution_count": 89,
   "metadata": {},
   "outputs": [
    {
     "name": "stdout",
     "output_type": "stream",
     "text": [
      "Train accuracy: 100.0 %\n"
     ]
    }
   ],
   "source": [
    "acc = round(rf.score(X_train, y_train), 2)*100\n",
    "print('Train accuracy: {} %'.format(acc))"
   ]
  },
  {
   "cell_type": "code",
   "execution_count": 90,
   "metadata": {},
   "outputs": [
    {
     "data": {
      "text/plain": [
       "<sklearn.metrics._plot.confusion_matrix.ConfusionMatrixDisplay at 0x12bc486a0>"
      ]
     },
     "execution_count": 90,
     "metadata": {},
     "output_type": "execute_result"
    },
    {
     "data": {
      "image/png": "[encoded data removed]",
      "text/plain": [
       "<Figure size 432x288 with 2 Axes>"
      ]
     },
     "metadata": {
      "needs_background": "light"
     },
     "output_type": "display_data"
    }
   ],
   "source": [
    "### confusion matrix\n",
    "plot_confusion_matrix(estimator=rf, X=X_train, y_true=y_train)"
   ]
  },
  {
   "cell_type": "code",
   "execution_count": 91,
   "metadata": {},
   "outputs": [
    {
     "data": {
      "text/html": [
       "<div>\n",
       "<style scoped>\n",
       "    .dataframe tbody tr th:only-of-type {\n",
       "        vertical-align: middle;\n",
       "    }\n",
       "\n",
       "    .dataframe tbody tr th {\n",
       "        vertical-align: top;\n",
       "    }\n",
       "\n",
       "    .dataframe thead th {\n",
       "        text-align: right;\n",
       "    }\n",
       "</style>\n",
       "<table border=\"1\" class=\"dataframe\">\n",
       "  <thead>\n",
       "    <tr style=\"text-align: right;\">\n",
       "      <th></th>\n",
       "      <th>neg_reviews</th>\n",
       "      <th>pos_reivews</th>\n",
       "    </tr>\n",
       "  </thead>\n",
       "  <tbody>\n",
       "    <tr>\n",
       "      <th>precision</th>\n",
       "      <td>1.0</td>\n",
       "      <td>1.0</td>\n",
       "    </tr>\n",
       "    <tr>\n",
       "      <th>recall</th>\n",
       "      <td>1.0</td>\n",
       "      <td>1.0</td>\n",
       "    </tr>\n",
       "    <tr>\n",
       "      <th>f1_score</th>\n",
       "      <td>1.0</td>\n",
       "      <td>1.0</td>\n",
       "    </tr>\n",
       "    <tr>\n",
       "      <th>count_of_reviews</th>\n",
       "      <td>20019.0</td>\n",
       "      <td>19981.0</td>\n",
       "    </tr>\n",
       "  </tbody>\n",
       "</table>\n",
       "</div>"
      ],
      "text/plain": [
       "                  neg_reviews  pos_reivews\n",
       "precision                 1.0          1.0\n",
       "recall                    1.0          1.0\n",
       "f1_score                  1.0          1.0\n",
       "count_of_reviews      20019.0      19981.0"
      ]
     },
     "execution_count": 91,
     "metadata": {},
     "output_type": "execute_result"
    }
   ],
   "source": [
    "# get model predictions \n",
    "y_pred = rf.predict(X_train)\n",
    "metrics = precision_recall_fscore_support(y_true=y_train, y_pred=y_pred)\n",
    "imdb.display_metrics(metrics)"
   ]
  },
  {
   "cell_type": "markdown",
   "metadata": {},
   "source": [
    "#### validation set "
   ]
  },
  {
   "cell_type": "code",
   "execution_count": 92,
   "metadata": {},
   "outputs": [
    {
     "name": "stdout",
     "output_type": "stream",
     "text": [
      "Validation accuracy: 80.0 %\n"
     ]
    }
   ],
   "source": [
    "acc = round(rf.score(X_valid, y_valid), 2)*100\n",
    "print('Validation accuracy: {} %'.format(acc))"
   ]
  },
  {
   "cell_type": "code",
   "execution_count": 93,
   "metadata": {},
   "outputs": [
    {
     "data": {
      "text/plain": [
       "<sklearn.metrics._plot.confusion_matrix.ConfusionMatrixDisplay at 0x127e3c520>"
      ]
     },
     "execution_count": 93,
     "metadata": {},
     "output_type": "execute_result"
    },
    {
     "data": {
      "image/png": "[encoded data removed]",
      "text/plain": [
       "<Figure size 432x288 with 2 Axes>"
      ]
     },
     "metadata": {
      "needs_background": "light"
     },
     "output_type": "display_data"
    }
   ],
   "source": [
    "### confusion matrix\n",
    "plot_confusion_matrix(estimator=rf, X=X_valid, y_true=y_valid)"
   ]
  },
  {
   "cell_type": "code",
   "execution_count": 94,
   "metadata": {},
   "outputs": [
    {
     "data": {
      "text/html": [
       "<div>\n",
       "<style scoped>\n",
       "    .dataframe tbody tr th:only-of-type {\n",
       "        vertical-align: middle;\n",
       "    }\n",
       "\n",
       "    .dataframe tbody tr th {\n",
       "        vertical-align: top;\n",
       "    }\n",
       "\n",
       "    .dataframe thead th {\n",
       "        text-align: right;\n",
       "    }\n",
       "</style>\n",
       "<table border=\"1\" class=\"dataframe\">\n",
       "  <thead>\n",
       "    <tr style=\"text-align: right;\">\n",
       "      <th></th>\n",
       "      <th>neg_reviews</th>\n",
       "      <th>pos_reivews</th>\n",
       "    </tr>\n",
       "  </thead>\n",
       "  <tbody>\n",
       "    <tr>\n",
       "      <th>precision</th>\n",
       "      <td>0.804365</td>\n",
       "      <td>0.803642</td>\n",
       "    </tr>\n",
       "    <tr>\n",
       "      <th>recall</th>\n",
       "      <td>0.800483</td>\n",
       "      <td>0.807478</td>\n",
       "    </tr>\n",
       "    <tr>\n",
       "      <th>f1_score</th>\n",
       "      <td>0.802419</td>\n",
       "      <td>0.805556</td>\n",
       "    </tr>\n",
       "    <tr>\n",
       "      <th>count_of_reviews</th>\n",
       "      <td>2486.000000</td>\n",
       "      <td>2514.000000</td>\n",
       "    </tr>\n",
       "  </tbody>\n",
       "</table>\n",
       "</div>"
      ],
      "text/plain": [
       "                  neg_reviews  pos_reivews\n",
       "precision            0.804365     0.803642\n",
       "recall               0.800483     0.807478\n",
       "f1_score             0.802419     0.805556\n",
       "count_of_reviews  2486.000000  2514.000000"
      ]
     },
     "execution_count": 94,
     "metadata": {},
     "output_type": "execute_result"
    }
   ],
   "source": [
    "y_valid_pred = rf.predict(X_valid)\n",
    "metrics = precision_recall_fscore_support(y_true=y_valid, y_pred=y_valid_pred)\n",
    "imdb.display_metrics(metrics)"
   ]
  },
  {
   "cell_type": "markdown",
   "metadata": {},
   "source": [
    "#### Summary \n",
    "Off the shelf, the `Random Forest` is performing more equally on the **positive** vs **negative** reviews. Overall, it performs slighly better on **positive reviews** than **negative** reviews.\n",
    "\n",
    "Compared to `SVC` it is performing quite a bit worse in general but again hyperparameter tuning should improve it as currently the `Random Forest` model is severely overfitting.  "
   ]
  },
  {
   "cell_type": "markdown",
   "metadata": {},
   "source": [
    "## Doc2Vec Version 2 \n",
    "\n",
    "These doc2vec features were built using the `dm_concat = 1` parameter of the model; meaning that the paragraph vector and context word vectors were concatentated \n",
    "together before performing the task of predicting the next word in the sequence. Contentation of the paragraph vector with the context word vectors \n",
    "is supposed to yield better performance on the sentiment analysis task. "
   ]
  },
  {
   "cell_type": "markdown",
   "metadata": {},
   "source": [
    "### Logistic Regression \n"
   ]
  },
  {
   "cell_type": "markdown",
   "metadata": {},
   "source": [
    "#### train set "
   ]
  },
  {
   "cell_type": "code",
   "execution_count": 17,
   "metadata": {},
   "outputs": [
    {
     "name": "stdout",
     "output_type": "stream",
     "text": [
      "training time for logistic regression... 0.1 seconds\n"
     ]
    }
   ],
   "source": [
    "start = time()\n",
    "lr = LogisticRegression(random_state=0).fit(X_train, y_train)\n",
    "stop = time()\n",
    "print(\"training time for logistic regression... {} seconds\".format(round(stop - start, 2)))"
   ]
  },
  {
   "cell_type": "code",
   "execution_count": 18,
   "metadata": {},
   "outputs": [
    {
     "name": "stdout",
     "output_type": "stream",
     "text": [
      "Train accuracy: 80.0 %\n"
     ]
    }
   ],
   "source": [
    "acc = round(lr.score(X_train, y_train), 2)*100\n",
    "print('Train accuracy: {} %'.format(acc))"
   ]
  },
  {
   "cell_type": "code",
   "execution_count": 19,
   "metadata": {},
   "outputs": [
    {
     "data": {
      "text/html": [
       "<div>\n",
       "<style scoped>\n",
       "    .dataframe tbody tr th:only-of-type {\n",
       "        vertical-align: middle;\n",
       "    }\n",
       "\n",
       "    .dataframe tbody tr th {\n",
       "        vertical-align: top;\n",
       "    }\n",
       "\n",
       "    .dataframe thead th {\n",
       "        text-align: right;\n",
       "    }\n",
       "</style>\n",
       "<table border=\"1\" class=\"dataframe\">\n",
       "  <thead>\n",
       "    <tr style=\"text-align: right;\">\n",
       "      <th></th>\n",
       "      <th>neg_reviews</th>\n",
       "      <th>pos_reivews</th>\n",
       "    </tr>\n",
       "  </thead>\n",
       "  <tbody>\n",
       "    <tr>\n",
       "      <th>precision</th>\n",
       "      <td>0.802689</td>\n",
       "      <td>0.801860</td>\n",
       "    </tr>\n",
       "    <tr>\n",
       "      <th>recall</th>\n",
       "      <td>0.802088</td>\n",
       "      <td>0.802462</td>\n",
       "    </tr>\n",
       "    <tr>\n",
       "      <th>f1_score</th>\n",
       "      <td>0.802389</td>\n",
       "      <td>0.802161</td>\n",
       "    </tr>\n",
       "    <tr>\n",
       "      <th>count_of_reviews</th>\n",
       "      <td>20019.000000</td>\n",
       "      <td>19981.000000</td>\n",
       "    </tr>\n",
       "  </tbody>\n",
       "</table>\n",
       "</div>"
      ],
      "text/plain": [
       "                   neg_reviews   pos_reivews\n",
       "precision             0.802689      0.801860\n",
       "recall                0.802088      0.802462\n",
       "f1_score              0.802389      0.802161\n",
       "count_of_reviews  20019.000000  19981.000000"
      ]
     },
     "execution_count": 19,
     "metadata": {},
     "output_type": "execute_result"
    }
   ],
   "source": [
    "# get model predictions \n",
    "y_pred = lr.predict(X_train)\n",
    "metrics = precision_recall_fscore_support(y_true=y_train, y_pred=y_pred)\n",
    "imdb.display_metrics(metrics)"
   ]
  },
  {
   "cell_type": "markdown",
   "metadata": {},
   "source": [
    "#### validation set "
   ]
  },
  {
   "cell_type": "code",
   "execution_count": 20,
   "metadata": {},
   "outputs": [
    {
     "name": "stdout",
     "output_type": "stream",
     "text": [
      "Validation accuracy: 80.0 %\n"
     ]
    }
   ],
   "source": [
    "acc = round(lr.score(X_valid, y_valid), 2)*100\n",
    "print('Validation accuracy: {} %'.format(acc))"
   ]
  },
  {
   "cell_type": "code",
   "execution_count": 21,
   "metadata": {},
   "outputs": [
    {
     "data": {
      "text/html": [
       "<div>\n",
       "<style scoped>\n",
       "    .dataframe tbody tr th:only-of-type {\n",
       "        vertical-align: middle;\n",
       "    }\n",
       "\n",
       "    .dataframe tbody tr th {\n",
       "        vertical-align: top;\n",
       "    }\n",
       "\n",
       "    .dataframe thead th {\n",
       "        text-align: right;\n",
       "    }\n",
       "</style>\n",
       "<table border=\"1\" class=\"dataframe\">\n",
       "  <thead>\n",
       "    <tr style=\"text-align: right;\">\n",
       "      <th></th>\n",
       "      <th>neg_reviews</th>\n",
       "      <th>pos_reivews</th>\n",
       "    </tr>\n",
       "  </thead>\n",
       "  <tbody>\n",
       "    <tr>\n",
       "      <th>precision</th>\n",
       "      <td>0.811391</td>\n",
       "      <td>0.798215</td>\n",
       "    </tr>\n",
       "    <tr>\n",
       "      <th>recall</th>\n",
       "      <td>0.790829</td>\n",
       "      <td>0.818218</td>\n",
       "    </tr>\n",
       "    <tr>\n",
       "      <th>f1_score</th>\n",
       "      <td>0.800978</td>\n",
       "      <td>0.808093</td>\n",
       "    </tr>\n",
       "    <tr>\n",
       "      <th>count_of_reviews</th>\n",
       "      <td>2486.000000</td>\n",
       "      <td>2514.000000</td>\n",
       "    </tr>\n",
       "  </tbody>\n",
       "</table>\n",
       "</div>"
      ],
      "text/plain": [
       "                  neg_reviews  pos_reivews\n",
       "precision            0.811391     0.798215\n",
       "recall               0.790829     0.818218\n",
       "f1_score             0.800978     0.808093\n",
       "count_of_reviews  2486.000000  2514.000000"
      ]
     },
     "execution_count": 21,
     "metadata": {},
     "output_type": "execute_result"
    }
   ],
   "source": [
    "y_valid_pred = lr.predict(X_valid)\n",
    "metrics = precision_recall_fscore_support(y_true=y_valid, y_pred=y_valid_pred)\n",
    "imdb.display_metrics(metrics)"
   ]
  },
  {
   "cell_type": "markdown",
   "metadata": {},
   "source": [
    "#### Summary "
   ]
  },
  {
   "cell_type": "markdown",
   "metadata": {},
   "source": [
    "## Doc2Vec Version 3\n",
    "\n",
    "The document features were built using `PV-DBOW` algorithm. "
   ]
  },
  {
   "cell_type": "markdown",
   "metadata": {},
   "source": [
    "### Logistic Regression \n"
   ]
  },
  {
   "cell_type": "markdown",
   "metadata": {},
   "source": [
    "#### train set "
   ]
  },
  {
   "cell_type": "code",
   "execution_count": 26,
   "metadata": {},
   "outputs": [
    {
     "name": "stdout",
     "output_type": "stream",
     "text": [
      "training time for logistic regression... 0.15 seconds\n"
     ]
    }
   ],
   "source": [
    "start = time()\n",
    "lr = LogisticRegression(random_state=0).fit(X_train, y_train)\n",
    "stop = time()\n",
    "print(\"training time for logistic regression... {} seconds\".format(round(stop - start, 2)))"
   ]
  },
  {
   "cell_type": "code",
   "execution_count": 27,
   "metadata": {},
   "outputs": [
    {
     "name": "stdout",
     "output_type": "stream",
     "text": [
      "Train accuracy: 87.0 %\n"
     ]
    }
   ],
   "source": [
    "acc = round(lr.score(X_train, y_train), 2)*100\n",
    "print('Train accuracy: {} %'.format(acc))"
   ]
  },
  {
   "cell_type": "code",
   "execution_count": 28,
   "metadata": {},
   "outputs": [
    {
     "data": {
      "text/html": [
       "<div>\n",
       "<style scoped>\n",
       "    .dataframe tbody tr th:only-of-type {\n",
       "        vertical-align: middle;\n",
       "    }\n",
       "\n",
       "    .dataframe tbody tr th {\n",
       "        vertical-align: top;\n",
       "    }\n",
       "\n",
       "    .dataframe thead th {\n",
       "        text-align: right;\n",
       "    }\n",
       "</style>\n",
       "<table border=\"1\" class=\"dataframe\">\n",
       "  <thead>\n",
       "    <tr style=\"text-align: right;\">\n",
       "      <th></th>\n",
       "      <th>neg_reviews</th>\n",
       "      <th>pos_reivews</th>\n",
       "    </tr>\n",
       "  </thead>\n",
       "  <tbody>\n",
       "    <tr>\n",
       "      <th>precision</th>\n",
       "      <td>0.871703</td>\n",
       "      <td>0.872800</td>\n",
       "    </tr>\n",
       "    <tr>\n",
       "      <th>recall</th>\n",
       "      <td>0.873270</td>\n",
       "      <td>0.871228</td>\n",
       "    </tr>\n",
       "    <tr>\n",
       "      <th>f1_score</th>\n",
       "      <td>0.872486</td>\n",
       "      <td>0.872013</td>\n",
       "    </tr>\n",
       "    <tr>\n",
       "      <th>count_of_reviews</th>\n",
       "      <td>20019.000000</td>\n",
       "      <td>19981.000000</td>\n",
       "    </tr>\n",
       "  </tbody>\n",
       "</table>\n",
       "</div>"
      ],
      "text/plain": [
       "                   neg_reviews   pos_reivews\n",
       "precision             0.871703      0.872800\n",
       "recall                0.873270      0.871228\n",
       "f1_score              0.872486      0.872013\n",
       "count_of_reviews  20019.000000  19981.000000"
      ]
     },
     "execution_count": 28,
     "metadata": {},
     "output_type": "execute_result"
    }
   ],
   "source": [
    "# get model predictions \n",
    "y_pred = lr.predict(X_train)\n",
    "metrics = precision_recall_fscore_support(y_true=y_train, y_pred=y_pred)\n",
    "imdb.display_metrics(metrics)"
   ]
  },
  {
   "cell_type": "markdown",
   "metadata": {},
   "source": [
    "#### validation set "
   ]
  },
  {
   "cell_type": "code",
   "execution_count": 29,
   "metadata": {},
   "outputs": [
    {
     "name": "stdout",
     "output_type": "stream",
     "text": [
      "Validation accuracy: 87.0 %\n"
     ]
    }
   ],
   "source": [
    "acc = round(lr.score(X_valid, y_valid), 2)*100\n",
    "print('Validation accuracy: {} %'.format(acc))"
   ]
  },
  {
   "cell_type": "code",
   "execution_count": 30,
   "metadata": {},
   "outputs": [
    {
     "data": {
      "text/html": [
       "<div>\n",
       "<style scoped>\n",
       "    .dataframe tbody tr th:only-of-type {\n",
       "        vertical-align: middle;\n",
       "    }\n",
       "\n",
       "    .dataframe tbody tr th {\n",
       "        vertical-align: top;\n",
       "    }\n",
       "\n",
       "    .dataframe thead th {\n",
       "        text-align: right;\n",
       "    }\n",
       "</style>\n",
       "<table border=\"1\" class=\"dataframe\">\n",
       "  <thead>\n",
       "    <tr style=\"text-align: right;\">\n",
       "      <th></th>\n",
       "      <th>neg_reviews</th>\n",
       "      <th>pos_reivews</th>\n",
       "    </tr>\n",
       "  </thead>\n",
       "  <tbody>\n",
       "    <tr>\n",
       "      <th>precision</th>\n",
       "      <td>0.861635</td>\n",
       "      <td>0.880293</td>\n",
       "    </tr>\n",
       "    <tr>\n",
       "      <th>recall</th>\n",
       "      <td>0.881738</td>\n",
       "      <td>0.859984</td>\n",
       "    </tr>\n",
       "    <tr>\n",
       "      <th>f1_score</th>\n",
       "      <td>0.871571</td>\n",
       "      <td>0.870020</td>\n",
       "    </tr>\n",
       "    <tr>\n",
       "      <th>count_of_reviews</th>\n",
       "      <td>2486.000000</td>\n",
       "      <td>2514.000000</td>\n",
       "    </tr>\n",
       "  </tbody>\n",
       "</table>\n",
       "</div>"
      ],
      "text/plain": [
       "                  neg_reviews  pos_reivews\n",
       "precision            0.861635     0.880293\n",
       "recall               0.881738     0.859984\n",
       "f1_score             0.871571     0.870020\n",
       "count_of_reviews  2486.000000  2514.000000"
      ]
     },
     "execution_count": 30,
     "metadata": {},
     "output_type": "execute_result"
    }
   ],
   "source": [
    "y_valid_pred = lr.predict(X_valid)\n",
    "metrics = precision_recall_fscore_support(y_true=y_valid, y_pred=y_valid_pred)\n",
    "imdb.display_metrics(metrics)"
   ]
  },
  {
   "cell_type": "markdown",
   "metadata": {},
   "source": [
    "#### Summary "
   ]
  },
  {
   "cell_type": "code",
   "execution_count": null,
   "metadata": {},
   "outputs": [],
   "source": []
  }
 ],
 "metadata": {
  "kernelspec": {
   "display_name": "Python 3",
   "language": "python",
   "name": "python3"
  },
  "language_info": {
   "codemirror_mode": {
    "name": "ipython",
    "version": 3
   },
   "file_extension": ".py",
   "mimetype": "text/x-python",
   "name": "python",
   "nbconvert_exporter": "python",
   "pygments_lexer": "ipython3",
   "version": "3.8.6"
  }
 },
 "nbformat": 4,
 "nbformat_minor": 4
}
