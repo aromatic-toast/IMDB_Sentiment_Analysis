{
 "cells": [
  {
   "cell_type": "markdown",
   "metadata": {},
   "source": [
    "# Feature Extraction w TF-IDF\n",
    "\n",
    "The purpose of this notebook is extract text features of movie reviews using **TF-IDF**. The idea being that this feature extraction method will be compared to **Doc2Vec** in the sentiment classification task. \n",
    "\n",
    "**Questions**\n",
    "\n",
    "What does the `TF-IDF` vectorizer do when the validation set has a word in it that does not appear in the train set? How does it scale this feature in the validation set? "
   ]
  },
  {
   "cell_type": "markdown",
   "metadata": {},
   "source": [
    "## import packages\n"
   ]
  },
  {
   "cell_type": "code",
   "execution_count": 36,
   "metadata": {},
   "outputs": [],
   "source": [
    "import pandas as pd\n",
    "from time import time\n",
    "import sys\n",
    "sys.path.append(\"/Users/lesleymi/data_science_tutorials/IMDB_Sentiment_Analysis/src\")\n",
    "import imdb_functions as imdb\n",
    "\n",
    "# feature extractor\n",
    "from sklearn.feature_extraction.text import TfidfVectorizer\n",
    "\n",
    "# models \n",
    "from sklearn.linear_model import LogisticRegression\n",
    "from sklearn.svm import SVC\n",
    "from sklearn.ensemble import RandomForestClassifier\n",
    "\n",
    "# evaluation \n",
    "from sklearn.metrics import plot_confusion_matrix\n",
    "from sklearn.metrics import precision_recall_fscore_support"
   ]
  },
  {
   "cell_type": "markdown",
   "metadata": {},
   "source": [
    "## load data"
   ]
  },
  {
   "cell_type": "code",
   "execution_count": 37,
   "metadata": {},
   "outputs": [],
   "source": [
    "# load clean train data \n",
    "X_train = pd.read_csv(\"data/train_clean.csv\").drop(labels='Unnamed: 0', axis=1).text\n",
    "y_train = pd.read_csv(\"data/Train.csv\").label\n",
    "X_valid = pd.read_csv(\"data/valid_clean.csv\").drop(labels='Unnamed: 0', axis=1)\n",
    "y_valid = X_valid.label"
   ]
  },
  {
   "cell_type": "code",
   "execution_count": 38,
   "metadata": {},
   "outputs": [
    {
     "name": "stdout",
     "output_type": "stream",
     "text": [
      "Train set has 40000 documents.\n",
      "Validation set has 5000 documents.\n"
     ]
    }
   ],
   "source": [
    "print(\"Train set has {} documents.\".format(X_train.shape[0]))\n",
    "print(\"Validation set has {} documents.\".format(X_valid.shape[0]))"
   ]
  },
  {
   "cell_type": "code",
   "execution_count": 39,
   "metadata": {},
   "outputs": [
    {
     "data": {
      "text/plain": [
       "0        grow watch love thunderbirds mate school watch...\n",
       "1        movie dvd player sit coke chip expectation hop...\n",
       "2        people know particular time past like feel nee...\n",
       "3        great interest biblical movie bore death minut...\n",
       "4        be die hard dad army fan change get tape dvd a...\n",
       "                               ...                        \n",
       "39995    western union forget classic western reason li...\n",
       "39996    movie incredible piece work explore nook crann...\n",
       "39997    wife watch movie plan visit sicily stromboli s...\n",
       "39998    watch flatliners amaze necessary feature good ...\n",
       "39999    film good gross estimate award nomination john...\n",
       "Name: text, Length: 40000, dtype: object"
      ]
     },
     "execution_count": 39,
     "metadata": {},
     "output_type": "execute_result"
    }
   ],
   "source": [
    "X_train"
   ]
  },
  {
   "cell_type": "markdown",
   "metadata": {},
   "source": [
    "## TF-IDF\n",
    "\n",
    "**Note**\n",
    "\n",
    "I didn't set a max features parameter thus, the vectorizer uses all the unique words in the training corpus as features. This results in many more features/unique words than training documents!!! This will likely pose a problem later. But most of the classifiers apply regularization by default anyway. "
   ]
  },
  {
   "cell_type": "code",
   "execution_count": 40,
   "metadata": {},
   "outputs": [],
   "source": [
    "# initialize the vectorizer \n",
    "vectorizer = TfidfVectorizer()\n",
    "\n",
    "# fit and transform train set \n",
    "X_train_tfidf = vectorizer.fit_transform(X_train)"
   ]
  },
  {
   "cell_type": "code",
   "execution_count": 41,
   "metadata": {},
   "outputs": [
    {
     "name": "stdout",
     "output_type": "stream",
     "text": [
      "The TF-IDF transformed data structure is a <class 'scipy.sparse.csr.csr_matrix'>\n",
      "There are 73448 unique words in the vocabulary.\n"
     ]
    }
   ],
   "source": [
    "print(\"The TF-IDF transformed data structure is a {}\".format(type(X_train_tfidf)))\n",
    "print(\"There are {} unique words in the vocabulary.\".format(X_train_tfidf.shape[1]))"
   ]
  },
  {
   "cell_type": "code",
   "execution_count": 42,
   "metadata": {},
   "outputs": [],
   "source": [
    "# transform the validation set \n",
    "X_valid_tfidf = vectorizer.transform(X_valid.text)"
   ]
  },
  {
   "cell_type": "markdown",
   "metadata": {},
   "source": [
    "## Sentiment Classification "
   ]
  },
  {
   "cell_type": "markdown",
   "metadata": {},
   "source": [
    "## Logistic Regression "
   ]
  },
  {
   "cell_type": "markdown",
   "metadata": {},
   "source": [
    "#### train set "
   ]
  },
  {
   "cell_type": "code",
   "execution_count": 50,
   "metadata": {},
   "outputs": [
    {
     "name": "stdout",
     "output_type": "stream",
     "text": [
      "training time for logistic regression... 3.03 seconds\n"
     ]
    }
   ],
   "source": [
    "start = time()\n",
    "lr = LogisticRegression(random_state=0, max_iter=1000).fit(X_train_tfidf, y_train)\n",
    "stop = time()\n",
    "print(\"training time for logistic regression... {} seconds\".format(round(stop - start, 2)))"
   ]
  },
  {
   "cell_type": "code",
   "execution_count": 51,
   "metadata": {},
   "outputs": [
    {
     "name": "stdout",
     "output_type": "stream",
     "text": [
      "Train accuracy: 92.0 %\n"
     ]
    }
   ],
   "source": [
    "acc = round(lr.score(X_train_tfidf, y_train), 2)*100\n",
    "print('Train accuracy: {} %'.format(acc))"
   ]
  },
  {
   "cell_type": "code",
   "execution_count": 52,
   "metadata": {},
   "outputs": [
    {
     "data": {
      "text/plain": [
       "<sklearn.metrics._plot.confusion_matrix.ConfusionMatrixDisplay at 0x1295b9400>"
      ]
     },
     "execution_count": 52,
     "metadata": {},
     "output_type": "execute_result"
    },
    {
     "data": {
      "image/png": "[encoded data removed]",
      "text/plain": [
       "<Figure size 432x288 with 2 Axes>"
      ]
     },
     "metadata": {
      "needs_background": "light"
     },
     "output_type": "display_data"
    }
   ],
   "source": [
    "### confusion matrix\n",
    "plot_confusion_matrix(estimator=lr, X=X_train_tfidf, y_true=y_train)"
   ]
  },
  {
   "cell_type": "code",
   "execution_count": 53,
   "metadata": {},
   "outputs": [
    {
     "data": {
      "text/html": [
       "<div>\n",
       "<style scoped>\n",
       "    .dataframe tbody tr th:only-of-type {\n",
       "        vertical-align: middle;\n",
       "    }\n",
       "\n",
       "    .dataframe tbody tr th {\n",
       "        vertical-align: top;\n",
       "    }\n",
       "\n",
       "    .dataframe thead th {\n",
       "        text-align: right;\n",
       "    }\n",
       "</style>\n",
       "<table border=\"1\" class=\"dataframe\">\n",
       "  <thead>\n",
       "    <tr style=\"text-align: right;\">\n",
       "      <th></th>\n",
       "      <th>neg_reviews</th>\n",
       "      <th>pos_reivews</th>\n",
       "    </tr>\n",
       "  </thead>\n",
       "  <tbody>\n",
       "    <tr>\n",
       "      <th>precision</th>\n",
       "      <td>0.933062</td>\n",
       "      <td>0.917023</td>\n",
       "    </tr>\n",
       "    <tr>\n",
       "      <th>recall</th>\n",
       "      <td>0.915630</td>\n",
       "      <td>0.934187</td>\n",
       "    </tr>\n",
       "    <tr>\n",
       "      <th>f1_score</th>\n",
       "      <td>0.924264</td>\n",
       "      <td>0.925526</td>\n",
       "    </tr>\n",
       "    <tr>\n",
       "      <th>count_of_reviews</th>\n",
       "      <td>20019.000000</td>\n",
       "      <td>19981.000000</td>\n",
       "    </tr>\n",
       "  </tbody>\n",
       "</table>\n",
       "</div>"
      ],
      "text/plain": [
       "                   neg_reviews   pos_reivews\n",
       "precision             0.933062      0.917023\n",
       "recall                0.915630      0.934187\n",
       "f1_score              0.924264      0.925526\n",
       "count_of_reviews  20019.000000  19981.000000"
      ]
     },
     "execution_count": 53,
     "metadata": {},
     "output_type": "execute_result"
    }
   ],
   "source": [
    "# get model predictions \n",
    "y_pred = lr.predict(X_train_tfidf)\n",
    "metrics = precision_recall_fscore_support(y_true=y_train, y_pred=y_pred)\n",
    "imdb.display_metrics(metrics)"
   ]
  },
  {
   "cell_type": "markdown",
   "metadata": {},
   "source": [
    "#### validation set "
   ]
  },
  {
   "cell_type": "code",
   "execution_count": 54,
   "metadata": {},
   "outputs": [
    {
     "name": "stdout",
     "output_type": "stream",
     "text": [
      "Validation accuracy: 88.0 %\n"
     ]
    }
   ],
   "source": [
    "acc = round(lr.score(X_valid_tfidf, y_valid), 2)*100\n",
    "print('Validation accuracy: {} %'.format(acc))"
   ]
  },
  {
   "cell_type": "code",
   "execution_count": 55,
   "metadata": {},
   "outputs": [
    {
     "data": {
      "text/plain": [
       "<sklearn.metrics._plot.confusion_matrix.ConfusionMatrixDisplay at 0x123872dc0>"
      ]
     },
     "execution_count": 55,
     "metadata": {},
     "output_type": "execute_result"
    },
    {
     "data": {
      "image/png": "[encoded data removed]",
      "text/plain": [
       "<Figure size 432x288 with 2 Axes>"
      ]
     },
     "metadata": {
      "needs_background": "light"
     },
     "output_type": "display_data"
    }
   ],
   "source": [
    "### confusion matrix\n",
    "plot_confusion_matrix(estimator=lr, X=X_valid_tfidf, y_true=y_valid)"
   ]
  },
  {
   "cell_type": "code",
   "execution_count": 56,
   "metadata": {},
   "outputs": [
    {
     "data": {
      "text/html": [
       "<div>\n",
       "<style scoped>\n",
       "    .dataframe tbody tr th:only-of-type {\n",
       "        vertical-align: middle;\n",
       "    }\n",
       "\n",
       "    .dataframe tbody tr th {\n",
       "        vertical-align: top;\n",
       "    }\n",
       "\n",
       "    .dataframe thead th {\n",
       "        text-align: right;\n",
       "    }\n",
       "</style>\n",
       "<table border=\"1\" class=\"dataframe\">\n",
       "  <thead>\n",
       "    <tr style=\"text-align: right;\">\n",
       "      <th></th>\n",
       "      <th>neg_reviews</th>\n",
       "      <th>pos_reivews</th>\n",
       "    </tr>\n",
       "  </thead>\n",
       "  <tbody>\n",
       "    <tr>\n",
       "      <th>precision</th>\n",
       "      <td>0.898249</td>\n",
       "      <td>0.872406</td>\n",
       "    </tr>\n",
       "    <tr>\n",
       "      <th>recall</th>\n",
       "      <td>0.866452</td>\n",
       "      <td>0.902944</td>\n",
       "    </tr>\n",
       "    <tr>\n",
       "      <th>f1_score</th>\n",
       "      <td>0.882064</td>\n",
       "      <td>0.887412</td>\n",
       "    </tr>\n",
       "    <tr>\n",
       "      <th>count_of_reviews</th>\n",
       "      <td>2486.000000</td>\n",
       "      <td>2514.000000</td>\n",
       "    </tr>\n",
       "  </tbody>\n",
       "</table>\n",
       "</div>"
      ],
      "text/plain": [
       "                  neg_reviews  pos_reivews\n",
       "precision            0.898249     0.872406\n",
       "recall               0.866452     0.902944\n",
       "f1_score             0.882064     0.887412\n",
       "count_of_reviews  2486.000000  2514.000000"
      ]
     },
     "execution_count": 56,
     "metadata": {},
     "output_type": "execute_result"
    }
   ],
   "source": [
    "# get model predictions \n",
    "y_pred = lr.predict(X_valid_tfidf)\n",
    "metrics = precision_recall_fscore_support(y_true=y_valid, y_pred=y_pred)\n",
    "imdb.display_metrics(metrics)"
   ]
  },
  {
   "cell_type": "code",
   "execution_count": null,
   "metadata": {},
   "outputs": [],
   "source": []
  }
 ],
 "metadata": {
  "kernelspec": {
   "display_name": "Python 3",
   "language": "python",
   "name": "python3"
  },
  "language_info": {
   "codemirror_mode": {
    "name": "ipython",
    "version": 3
   },
   "file_extension": ".py",
   "mimetype": "text/x-python",
   "name": "python",
   "nbconvert_exporter": "python",
   "pygments_lexer": "ipython3",
   "version": "3.8.6"
  }
 },
 "nbformat": 4,
 "nbformat_minor": 4
}
