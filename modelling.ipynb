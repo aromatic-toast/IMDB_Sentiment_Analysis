{
 "cells": [
  {
   "cell_type": "markdown",
   "metadata": {},
   "source": [
    "# Sentiment Prediction on IMDB \n",
    "\n",
    "**The Plan**\n",
    "\n",
    "Compare `CountVectorizer` to `Doc2Vec` using 2-3 different classifiers models to predict movie review sentiment label. \n",
    "- Logistic Regression \n",
    "- SVM\n",
    "- Random Forest"
   ]
  },
  {
   "cell_type": "markdown",
   "metadata": {},
   "source": [
    "## import packages "
   ]
  },
  {
   "cell_type": "code",
   "execution_count": 16,
   "metadata": {},
   "outputs": [],
   "source": [
    "import pandas as pd\n",
    "from time import time\n",
    "import sys\n",
    "sys.path.append(\"/Users/lesleymi/data_science_tutorials/IMDB_Sentiment_Analysis/src\")\n",
    "import imdb_functions as imdb\n",
    "\n",
    "# models \n",
    "from sklearn.linear_model import LogisticRegression\n",
    "from sklearn.svm import SVC\n",
    "from sklearn.ensemble import RandomForestClassifier\n",
    "\n",
    "# evaluation \n",
    "from sklearn.metrics import confusion_matrix\n",
    "from sklearn.metrics import plot_confusion_matrix\n",
    "from sklearn.metrics import precision_recall_fscore_support"
   ]
  },
  {
   "cell_type": "markdown",
   "metadata": {},
   "source": [
    "## load data "
   ]
  },
  {
   "cell_type": "markdown",
   "metadata": {},
   "source": [
    "### train"
   ]
  },
  {
   "cell_type": "code",
   "execution_count": 2,
   "metadata": {},
   "outputs": [],
   "source": [
    "# load extracted doc2vec vectors \n",
    "X_train = pd.read_csv(\"data/train_d2v.csv\").drop(labels='Unnamed: 0', axis=1)\n",
    "y_train = pd.read_csv('data/Train.csv').label"
   ]
  },
  {
   "cell_type": "code",
   "execution_count": 3,
   "metadata": {},
   "outputs": [
    {
     "data": {
      "text/html": [
       "<div>\n",
       "<style scoped>\n",
       "    .dataframe tbody tr th:only-of-type {\n",
       "        vertical-align: middle;\n",
       "    }\n",
       "\n",
       "    .dataframe tbody tr th {\n",
       "        vertical-align: top;\n",
       "    }\n",
       "\n",
       "    .dataframe thead th {\n",
       "        text-align: right;\n",
       "    }\n",
       "</style>\n",
       "<table border=\"1\" class=\"dataframe\">\n",
       "  <thead>\n",
       "    <tr style=\"text-align: right;\">\n",
       "      <th></th>\n",
       "      <th>dim_0</th>\n",
       "      <th>dim_1</th>\n",
       "      <th>dim_2</th>\n",
       "      <th>dim_3</th>\n",
       "      <th>dim_4</th>\n",
       "      <th>dim_5</th>\n",
       "      <th>dim_6</th>\n",
       "      <th>dim_7</th>\n",
       "      <th>dim_8</th>\n",
       "      <th>dim_9</th>\n",
       "      <th>...</th>\n",
       "      <th>dim_90</th>\n",
       "      <th>dim_91</th>\n",
       "      <th>dim_92</th>\n",
       "      <th>dim_93</th>\n",
       "      <th>dim_94</th>\n",
       "      <th>dim_95</th>\n",
       "      <th>dim_96</th>\n",
       "      <th>dim_97</th>\n",
       "      <th>dim_98</th>\n",
       "      <th>dim_99</th>\n",
       "    </tr>\n",
       "  </thead>\n",
       "  <tbody>\n",
       "    <tr>\n",
       "      <th>0</th>\n",
       "      <td>0.784555</td>\n",
       "      <td>-0.397502</td>\n",
       "      <td>-0.331985</td>\n",
       "      <td>0.965592</td>\n",
       "      <td>2.012932</td>\n",
       "      <td>1.887488</td>\n",
       "      <td>0.510781</td>\n",
       "      <td>3.288674</td>\n",
       "      <td>3.433098</td>\n",
       "      <td>-3.791230</td>\n",
       "      <td>...</td>\n",
       "      <td>-1.244086</td>\n",
       "      <td>1.192884</td>\n",
       "      <td>0.891242</td>\n",
       "      <td>2.866597</td>\n",
       "      <td>8.549128</td>\n",
       "      <td>-0.478778</td>\n",
       "      <td>1.692087</td>\n",
       "      <td>2.417104</td>\n",
       "      <td>1.771905</td>\n",
       "      <td>-1.312251</td>\n",
       "    </tr>\n",
       "    <tr>\n",
       "      <th>1</th>\n",
       "      <td>1.027664</td>\n",
       "      <td>-3.786560</td>\n",
       "      <td>-1.583889</td>\n",
       "      <td>3.124440</td>\n",
       "      <td>-0.892188</td>\n",
       "      <td>-1.558567</td>\n",
       "      <td>3.319089</td>\n",
       "      <td>1.988021</td>\n",
       "      <td>2.089380</td>\n",
       "      <td>-0.524098</td>\n",
       "      <td>...</td>\n",
       "      <td>0.397586</td>\n",
       "      <td>2.595252</td>\n",
       "      <td>2.952577</td>\n",
       "      <td>-2.684180</td>\n",
       "      <td>1.753658</td>\n",
       "      <td>-1.200642</td>\n",
       "      <td>-0.714399</td>\n",
       "      <td>-1.440350</td>\n",
       "      <td>1.549200</td>\n",
       "      <td>-1.613970</td>\n",
       "    </tr>\n",
       "  </tbody>\n",
       "</table>\n",
       "<p>2 rows × 100 columns</p>\n",
       "</div>"
      ],
      "text/plain": [
       "      dim_0     dim_1     dim_2     dim_3     dim_4     dim_5     dim_6  \\\n",
       "0  0.784555 -0.397502 -0.331985  0.965592  2.012932  1.887488  0.510781   \n",
       "1  1.027664 -3.786560 -1.583889  3.124440 -0.892188 -1.558567  3.319089   \n",
       "\n",
       "      dim_7     dim_8     dim_9  ...    dim_90    dim_91    dim_92    dim_93  \\\n",
       "0  3.288674  3.433098 -3.791230  ... -1.244086  1.192884  0.891242  2.866597   \n",
       "1  1.988021  2.089380 -0.524098  ...  0.397586  2.595252  2.952577 -2.684180   \n",
       "\n",
       "     dim_94    dim_95    dim_96    dim_97    dim_98    dim_99  \n",
       "0  8.549128 -0.478778  1.692087  2.417104  1.771905 -1.312251  \n",
       "1  1.753658 -1.200642 -0.714399 -1.440350  1.549200 -1.613970  \n",
       "\n",
       "[2 rows x 100 columns]"
      ]
     },
     "execution_count": 3,
     "metadata": {},
     "output_type": "execute_result"
    }
   ],
   "source": [
    "X_train.head(2)"
   ]
  },
  {
   "cell_type": "markdown",
   "metadata": {},
   "source": [
    "### validation "
   ]
  },
  {
   "cell_type": "code",
   "execution_count": 4,
   "metadata": {},
   "outputs": [],
   "source": [
    "# load d2v vectors for valid set \n",
    "X_valid = pd.read_csv(\"data/valid_d2v.csv\").drop(labels='Unnamed: 0', axis=1)\n",
    "y_valid = pd.read_csv(\"data/Valid.csv\").label"
   ]
  },
  {
   "cell_type": "code",
   "execution_count": 5,
   "metadata": {},
   "outputs": [
    {
     "data": {
      "text/html": [
       "<div>\n",
       "<style scoped>\n",
       "    .dataframe tbody tr th:only-of-type {\n",
       "        vertical-align: middle;\n",
       "    }\n",
       "\n",
       "    .dataframe tbody tr th {\n",
       "        vertical-align: top;\n",
       "    }\n",
       "\n",
       "    .dataframe thead th {\n",
       "        text-align: right;\n",
       "    }\n",
       "</style>\n",
       "<table border=\"1\" class=\"dataframe\">\n",
       "  <thead>\n",
       "    <tr style=\"text-align: right;\">\n",
       "      <th></th>\n",
       "      <th>dim_0</th>\n",
       "      <th>dim_1</th>\n",
       "      <th>dim_2</th>\n",
       "      <th>dim_3</th>\n",
       "      <th>dim_4</th>\n",
       "      <th>dim_5</th>\n",
       "      <th>dim_6</th>\n",
       "      <th>dim_7</th>\n",
       "      <th>dim_8</th>\n",
       "      <th>dim_9</th>\n",
       "      <th>...</th>\n",
       "      <th>dim_90</th>\n",
       "      <th>dim_91</th>\n",
       "      <th>dim_92</th>\n",
       "      <th>dim_93</th>\n",
       "      <th>dim_94</th>\n",
       "      <th>dim_95</th>\n",
       "      <th>dim_96</th>\n",
       "      <th>dim_97</th>\n",
       "      <th>dim_98</th>\n",
       "      <th>dim_99</th>\n",
       "    </tr>\n",
       "  </thead>\n",
       "  <tbody>\n",
       "    <tr>\n",
       "      <th>0</th>\n",
       "      <td>-2.680867</td>\n",
       "      <td>6.39884</td>\n",
       "      <td>4.018526</td>\n",
       "      <td>8.395155</td>\n",
       "      <td>-3.555781</td>\n",
       "      <td>-4.728131</td>\n",
       "      <td>6.757674</td>\n",
       "      <td>-7.458204</td>\n",
       "      <td>-9.523823</td>\n",
       "      <td>-3.842038</td>\n",
       "      <td>...</td>\n",
       "      <td>3.538475</td>\n",
       "      <td>-3.996748</td>\n",
       "      <td>-0.659994</td>\n",
       "      <td>-6.121395</td>\n",
       "      <td>-0.311296</td>\n",
       "      <td>-1.885019</td>\n",
       "      <td>-2.931347</td>\n",
       "      <td>-3.365272</td>\n",
       "      <td>-4.001366</td>\n",
       "      <td>-4.922225</td>\n",
       "    </tr>\n",
       "    <tr>\n",
       "      <th>1</th>\n",
       "      <td>-1.492467</td>\n",
       "      <td>4.73470</td>\n",
       "      <td>-1.418137</td>\n",
       "      <td>3.511071</td>\n",
       "      <td>-0.293600</td>\n",
       "      <td>-3.851899</td>\n",
       "      <td>3.306302</td>\n",
       "      <td>-1.316389</td>\n",
       "      <td>-4.767108</td>\n",
       "      <td>-3.987271</td>\n",
       "      <td>...</td>\n",
       "      <td>1.284215</td>\n",
       "      <td>1.020190</td>\n",
       "      <td>1.247683</td>\n",
       "      <td>-1.957045</td>\n",
       "      <td>0.602592</td>\n",
       "      <td>-0.802216</td>\n",
       "      <td>1.729399</td>\n",
       "      <td>-3.806409</td>\n",
       "      <td>-5.421680</td>\n",
       "      <td>-0.568843</td>\n",
       "    </tr>\n",
       "  </tbody>\n",
       "</table>\n",
       "<p>2 rows × 100 columns</p>\n",
       "</div>"
      ],
      "text/plain": [
       "      dim_0    dim_1     dim_2     dim_3     dim_4     dim_5     dim_6  \\\n",
       "0 -2.680867  6.39884  4.018526  8.395155 -3.555781 -4.728131  6.757674   \n",
       "1 -1.492467  4.73470 -1.418137  3.511071 -0.293600 -3.851899  3.306302   \n",
       "\n",
       "      dim_7     dim_8     dim_9  ...    dim_90    dim_91    dim_92    dim_93  \\\n",
       "0 -7.458204 -9.523823 -3.842038  ...  3.538475 -3.996748 -0.659994 -6.121395   \n",
       "1 -1.316389 -4.767108 -3.987271  ...  1.284215  1.020190  1.247683 -1.957045   \n",
       "\n",
       "     dim_94    dim_95    dim_96    dim_97    dim_98    dim_99  \n",
       "0 -0.311296 -1.885019 -2.931347 -3.365272 -4.001366 -4.922225  \n",
       "1  0.602592 -0.802216  1.729399 -3.806409 -5.421680 -0.568843  \n",
       "\n",
       "[2 rows x 100 columns]"
      ]
     },
     "execution_count": 5,
     "metadata": {},
     "output_type": "execute_result"
    }
   ],
   "source": [
    "X_valid.head(2)"
   ]
  },
  {
   "cell_type": "markdown",
   "metadata": {},
   "source": [
    "## Logistic Regression \n"
   ]
  },
  {
   "cell_type": "markdown",
   "metadata": {},
   "source": [
    "### train set "
   ]
  },
  {
   "cell_type": "code",
   "execution_count": 12,
   "metadata": {},
   "outputs": [
    {
     "name": "stdout",
     "output_type": "stream",
     "text": [
      "training time for logistic regression... 0.19 seconds\n"
     ]
    }
   ],
   "source": [
    "start = time()\n",
    "lr = LogisticRegression(random_state=0).fit(X_train, y_train)\n",
    "stop = time()\n",
    "print(\"training time for logistic regression... {} seconds\".format(round(stop - start, 2)))"
   ]
  },
  {
   "cell_type": "code",
   "execution_count": 13,
   "metadata": {},
   "outputs": [
    {
     "name": "stdout",
     "output_type": "stream",
     "text": [
      "Train accuracy: 86.0 %\n"
     ]
    }
   ],
   "source": [
    "acc = round(lr.score(X_train, y_train), 2)*100\n",
    "print('Train accuracy: {} %'.format(acc))"
   ]
  },
  {
   "cell_type": "code",
   "execution_count": 14,
   "metadata": {},
   "outputs": [
    {
     "data": {
      "text/plain": [
       "<sklearn.metrics._plot.confusion_matrix.ConfusionMatrixDisplay at 0x129abe100>"
      ]
     },
     "execution_count": 14,
     "metadata": {},
     "output_type": "execute_result"
    },
    {
     "data": {
      "image/png": "[encoded data removed]",
      "text/plain": [
       "<Figure size 432x288 with 2 Axes>"
      ]
     },
     "metadata": {
      "needs_background": "light"
     },
     "output_type": "display_data"
    }
   ],
   "source": [
    "### confusion matrix\n",
    "plot_confusion_matrix(estimator=lr, X=X_train, y_true=y_train)"
   ]
  },
  {
   "cell_type": "code",
   "execution_count": 16,
   "metadata": {},
   "outputs": [
    {
     "data": {
      "text/plain": [
       "(array([0.86200359, 0.86264783]),\n",
       " array([0.86308007, 0.86156849]),\n",
       " array([0.8625415 , 0.86210782]),\n",
       " array([20019, 19981]))"
      ]
     },
     "execution_count": 16,
     "metadata": {},
     "output_type": "execute_result"
    }
   ],
   "source": [
    "# get model predictions \n",
    "y_pred = lr.predict(X_train)\n",
    "metrics = precision_recall_fscore_support(y_true=y_train, y_pred=y_pred)\n",
    "metrics"
   ]
  },
  {
   "cell_type": "code",
   "execution_count": 36,
   "metadata": {},
   "outputs": [
    {
     "data": {
      "text/html": [
       "<div>\n",
       "<style scoped>\n",
       "    .dataframe tbody tr th:only-of-type {\n",
       "        vertical-align: middle;\n",
       "    }\n",
       "\n",
       "    .dataframe tbody tr th {\n",
       "        vertical-align: top;\n",
       "    }\n",
       "\n",
       "    .dataframe thead th {\n",
       "        text-align: right;\n",
       "    }\n",
       "</style>\n",
       "<table border=\"1\" class=\"dataframe\">\n",
       "  <thead>\n",
       "    <tr style=\"text-align: right;\">\n",
       "      <th></th>\n",
       "      <th>neg_reviews</th>\n",
       "      <th>pos_reivews</th>\n",
       "    </tr>\n",
       "  </thead>\n",
       "  <tbody>\n",
       "    <tr>\n",
       "      <th>precision</th>\n",
       "      <td>0.862004</td>\n",
       "      <td>0.862648</td>\n",
       "    </tr>\n",
       "    <tr>\n",
       "      <th>recall</th>\n",
       "      <td>0.863080</td>\n",
       "      <td>0.861568</td>\n",
       "    </tr>\n",
       "    <tr>\n",
       "      <th>f1_score</th>\n",
       "      <td>0.862541</td>\n",
       "      <td>0.862108</td>\n",
       "    </tr>\n",
       "    <tr>\n",
       "      <th>count_of_reviews</th>\n",
       "      <td>20019.000000</td>\n",
       "      <td>19981.000000</td>\n",
       "    </tr>\n",
       "  </tbody>\n",
       "</table>\n",
       "</div>"
      ],
      "text/plain": [
       "                   neg_reviews   pos_reivews\n",
       "precision             0.862004      0.862648\n",
       "recall                0.863080      0.861568\n",
       "f1_score              0.862541      0.862108\n",
       "count_of_reviews  20019.000000  19981.000000"
      ]
     },
     "execution_count": 36,
     "metadata": {},
     "output_type": "execute_result"
    }
   ],
   "source": [
    "imdb.display_metrics(metrics)"
   ]
  },
  {
   "cell_type": "markdown",
   "metadata": {},
   "source": [
    "### validation set "
   ]
  },
  {
   "cell_type": "code",
   "execution_count": 37,
   "metadata": {},
   "outputs": [
    {
     "name": "stdout",
     "output_type": "stream",
     "text": [
      "Validation accuracy: 80.0 %\n"
     ]
    }
   ],
   "source": [
    "acc = round(lr.score(X_valid, y_valid), 2)*100\n",
    "print('Validation accuracy: {} %'.format(acc))"
   ]
  },
  {
   "cell_type": "code",
   "execution_count": 38,
   "metadata": {},
   "outputs": [
    {
     "data": {
      "text/plain": [
       "<sklearn.metrics._plot.confusion_matrix.ConfusionMatrixDisplay at 0x12cccdcd0>"
      ]
     },
     "execution_count": 38,
     "metadata": {},
     "output_type": "execute_result"
    },
    {
     "data": {
      "image/png": "[encoded data removed]",
      "text/plain": [
       "<Figure size 432x288 with 2 Axes>"
      ]
     },
     "metadata": {
      "needs_background": "light"
     },
     "output_type": "display_data"
    }
   ],
   "source": [
    "### confusion matrix\n",
    "plot_confusion_matrix(estimator=lr, X=X_valid, y_true=y_valid)"
   ]
  },
  {
   "cell_type": "code",
   "execution_count": 39,
   "metadata": {},
   "outputs": [
    {
     "data": {
      "text/html": [
       "<div>\n",
       "<style scoped>\n",
       "    .dataframe tbody tr th:only-of-type {\n",
       "        vertical-align: middle;\n",
       "    }\n",
       "\n",
       "    .dataframe tbody tr th {\n",
       "        vertical-align: top;\n",
       "    }\n",
       "\n",
       "    .dataframe thead th {\n",
       "        text-align: right;\n",
       "    }\n",
       "</style>\n",
       "<table border=\"1\" class=\"dataframe\">\n",
       "  <thead>\n",
       "    <tr style=\"text-align: right;\">\n",
       "      <th></th>\n",
       "      <th>neg_reviews</th>\n",
       "      <th>pos_reivews</th>\n",
       "    </tr>\n",
       "  </thead>\n",
       "  <tbody>\n",
       "    <tr>\n",
       "      <th>precision</th>\n",
       "      <td>0.724381</td>\n",
       "      <td>0.931831</td>\n",
       "    </tr>\n",
       "    <tr>\n",
       "      <th>recall</th>\n",
       "      <td>0.952534</td>\n",
       "      <td>0.641607</td>\n",
       "    </tr>\n",
       "    <tr>\n",
       "      <th>f1_score</th>\n",
       "      <td>0.822937</td>\n",
       "      <td>0.759953</td>\n",
       "    </tr>\n",
       "    <tr>\n",
       "      <th>count_of_reviews</th>\n",
       "      <td>2486.000000</td>\n",
       "      <td>2514.000000</td>\n",
       "    </tr>\n",
       "  </tbody>\n",
       "</table>\n",
       "</div>"
      ],
      "text/plain": [
       "                  neg_reviews  pos_reivews\n",
       "precision            0.724381     0.931831\n",
       "recall               0.952534     0.641607\n",
       "f1_score             0.822937     0.759953\n",
       "count_of_reviews  2486.000000  2514.000000"
      ]
     },
     "execution_count": 39,
     "metadata": {},
     "output_type": "execute_result"
    }
   ],
   "source": [
    "y_valid_pred = lr.predX_valid(X_valid)\n",
    "metrics = precision_recall_fscore_support(y_true=y_valid, y_pred=y_valid_pred)\n",
    "imdb.display_metrics(metrics)"
   ]
  },
  {
   "cell_type": "markdown",
   "metadata": {},
   "source": [
    "### Summary \n",
    "**Logistic regression** \n",
    "\n",
    "For **negative** reviews, the precision is 72% meaning that when the classifier predicts the positive label, it correctly identifies the negative review 72% of the time. The recall is much higher at 95%. Out of the truly negative reviews, the classifier correctly identifies them 95% of the time. \n",
    "\n",
    "For **positive** reviews, the precision is much higher at ~ 93%. But the recall is much lower at 64% meaning that out of the positive reviews, the classifier correctly identifies that it is positive 64% of the time. \n",
    "\n",
    "F1 score for **negative** reviews is 82% and the F1 score for **positive** reviews is ~ 76%. So overall, before any hyperparameter tuning, the `Logistic Regression` model performs better at identifying **negative** reviews. "
   ]
  },
  {
   "cell_type": "markdown",
   "metadata": {},
   "source": [
    "## Support Vector Machine \n",
    "\n"
   ]
  },
  {
   "cell_type": "markdown",
   "metadata": {},
   "source": [
    "### train set "
   ]
  },
  {
   "cell_type": "code",
   "execution_count": 6,
   "metadata": {},
   "outputs": [
    {
     "name": "stdout",
     "output_type": "stream",
     "text": [
      "training time for support vector machine: 173.79 seconds.\n"
     ]
    }
   ],
   "source": [
    "start = time()\n",
    "svc = SVC(random_state=0).fit(X_train, y_train)\n",
    "stop = time()\n",
    "print(\"training time for support vector machine: {} seconds.\".format(round((stop - start), 2)))"
   ]
  },
  {
   "cell_type": "code",
   "execution_count": 7,
   "metadata": {},
   "outputs": [
    {
     "name": "stdout",
     "output_type": "stream",
     "text": [
      "training time for support vector machine: 2.9 minutes.\n"
     ]
    }
   ],
   "source": [
    "train_time = round((stop - start)/60, 2)\n",
    "print('training time for support vector machine: {} minutes.'.format(train_time))"
   ]
  },
  {
   "cell_type": "markdown",
   "metadata": {},
   "source": [
    "**Note:**\n",
    "\n",
    "**The train accuracy score and the plot of the confusion matrix each took a few minutes each to compute! In contrast to logistic regression which was practically instantaneous.**"
   ]
  },
  {
   "cell_type": "code",
   "execution_count": 8,
   "metadata": {},
   "outputs": [
    {
     "name": "stdout",
     "output_type": "stream",
     "text": [
      "Train accuracy: 92.0 %\n"
     ]
    }
   ],
   "source": [
    "acc = round(svc.score(X_train, y_train), 2)*100\n",
    "print('Train accuracy: {} %'.format(acc))"
   ]
  },
  {
   "cell_type": "code",
   "execution_count": 9,
   "metadata": {},
   "outputs": [
    {
     "data": {
      "text/plain": [
       "<sklearn.metrics._plot.confusion_matrix.ConfusionMatrixDisplay at 0x12838c340>"
      ]
     },
     "execution_count": 9,
     "metadata": {},
     "output_type": "execute_result"
    },
    {
     "data": {
      "image/png": "[encoded data removed]",
      "text/plain": [
       "<Figure size 432x288 with 2 Axes>"
      ]
     },
     "metadata": {
      "needs_background": "light"
     },
     "output_type": "display_data"
    }
   ],
   "source": [
    "### confusion matrix\n",
    "plot_confusion_matrix(estimator=svc, X=X_train, y_true=y_train)"
   ]
  },
  {
   "cell_type": "code",
   "execution_count": 10,
   "metadata": {},
   "outputs": [
    {
     "data": {
      "text/html": [
       "<div>\n",
       "<style scoped>\n",
       "    .dataframe tbody tr th:only-of-type {\n",
       "        vertical-align: middle;\n",
       "    }\n",
       "\n",
       "    .dataframe tbody tr th {\n",
       "        vertical-align: top;\n",
       "    }\n",
       "\n",
       "    .dataframe thead th {\n",
       "        text-align: right;\n",
       "    }\n",
       "</style>\n",
       "<table border=\"1\" class=\"dataframe\">\n",
       "  <thead>\n",
       "    <tr style=\"text-align: right;\">\n",
       "      <th></th>\n",
       "      <th>neg_reviews</th>\n",
       "      <th>pos_reivews</th>\n",
       "    </tr>\n",
       "  </thead>\n",
       "  <tbody>\n",
       "    <tr>\n",
       "      <th>precision</th>\n",
       "      <td>0.924820</td>\n",
       "      <td>0.923531</td>\n",
       "    </tr>\n",
       "    <tr>\n",
       "      <th>recall</th>\n",
       "      <td>0.923573</td>\n",
       "      <td>0.924779</td>\n",
       "    </tr>\n",
       "    <tr>\n",
       "      <th>f1_score</th>\n",
       "      <td>0.924196</td>\n",
       "      <td>0.924154</td>\n",
       "    </tr>\n",
       "    <tr>\n",
       "      <th>count_of_reviews</th>\n",
       "      <td>20019.000000</td>\n",
       "      <td>19981.000000</td>\n",
       "    </tr>\n",
       "  </tbody>\n",
       "</table>\n",
       "</div>"
      ],
      "text/plain": [
       "                   neg_reviews   pos_reivews\n",
       "precision             0.924820      0.923531\n",
       "recall                0.923573      0.924779\n",
       "f1_score              0.924196      0.924154\n",
       "count_of_reviews  20019.000000  19981.000000"
      ]
     },
     "execution_count": 10,
     "metadata": {},
     "output_type": "execute_result"
    }
   ],
   "source": [
    "# get model predictions \n",
    "y_pred = svc.predict(X_train)\n",
    "metrics = precision_recall_fscore_support(y_true=y_train, y_pred=y_pred)\n",
    "imdb.display_metrics(metrics)"
   ]
  },
  {
   "cell_type": "markdown",
   "metadata": {},
   "source": [
    "### validation set "
   ]
  },
  {
   "cell_type": "code",
   "execution_count": 15,
   "metadata": {},
   "outputs": [
    {
     "name": "stdout",
     "output_type": "stream",
     "text": [
      "Validation accuracy: 72.0 %\n"
     ]
    }
   ],
   "source": [
    "acc = round(svc.score(X_valid, y_valid), 2)*100\n",
    "print('Validation accuracy: {} %'.format(acc))"
   ]
  },
  {
   "cell_type": "code",
   "execution_count": 12,
   "metadata": {},
   "outputs": [
    {
     "data": {
      "text/plain": [
       "<sklearn.metrics._plot.confusion_matrix.ConfusionMatrixDisplay at 0x128ca91c0>"
      ]
     },
     "execution_count": 12,
     "metadata": {},
     "output_type": "execute_result"
    },
    {
     "data": {
      "image/png": "[encoded data removed]",
      "text/plain": [
       "<Figure size 432x288 with 2 Axes>"
      ]
     },
     "metadata": {
      "needs_background": "light"
     },
     "output_type": "display_data"
    }
   ],
   "source": [
    "### confusion matrix\n",
    "plot_confusion_matrix(estimator=svc, X=X_valid, y_true=y_valid)"
   ]
  },
  {
   "cell_type": "code",
   "execution_count": 14,
   "metadata": {},
   "outputs": [
    {
     "data": {
      "text/html": [
       "<div>\n",
       "<style scoped>\n",
       "    .dataframe tbody tr th:only-of-type {\n",
       "        vertical-align: middle;\n",
       "    }\n",
       "\n",
       "    .dataframe tbody tr th {\n",
       "        vertical-align: top;\n",
       "    }\n",
       "\n",
       "    .dataframe thead th {\n",
       "        text-align: right;\n",
       "    }\n",
       "</style>\n",
       "<table border=\"1\" class=\"dataframe\">\n",
       "  <thead>\n",
       "    <tr style=\"text-align: right;\">\n",
       "      <th></th>\n",
       "      <th>neg_reviews</th>\n",
       "      <th>pos_reivews</th>\n",
       "    </tr>\n",
       "  </thead>\n",
       "  <tbody>\n",
       "    <tr>\n",
       "      <th>precision</th>\n",
       "      <td>0.644104</td>\n",
       "      <td>0.931088</td>\n",
       "    </tr>\n",
       "    <tr>\n",
       "      <th>recall</th>\n",
       "      <td>0.964602</td>\n",
       "      <td>0.472951</td>\n",
       "    </tr>\n",
       "    <tr>\n",
       "      <th>f1_score</th>\n",
       "      <td>0.772427</td>\n",
       "      <td>0.627275</td>\n",
       "    </tr>\n",
       "    <tr>\n",
       "      <th>count_of_reviews</th>\n",
       "      <td>2486.000000</td>\n",
       "      <td>2514.000000</td>\n",
       "    </tr>\n",
       "  </tbody>\n",
       "</table>\n",
       "</div>"
      ],
      "text/plain": [
       "                  neg_reviews  pos_reivews\n",
       "precision            0.644104     0.931088\n",
       "recall               0.964602     0.472951\n",
       "f1_score             0.772427     0.627275\n",
       "count_of_reviews  2486.000000  2514.000000"
      ]
     },
     "execution_count": 14,
     "metadata": {},
     "output_type": "execute_result"
    }
   ],
   "source": [
    "y_valid_pred = svc.predict(X_valid)\n",
    "metrics = precision_recall_fscore_support(y_true=y_valid, y_pred=y_valid_pred)\n",
    "imdb.display_metrics(metrics)"
   ]
  },
  {
   "cell_type": "markdown",
   "metadata": {},
   "source": [
    "### Summary "
   ]
  },
  {
   "cell_type": "markdown",
   "metadata": {},
   "source": [
    "Without any hyperparameter tuning `SVC` performs even better on the train set than `Logistic Regression` but even worse on the validation. There is a big gap in the accuracy between train and validation which indicates overfitting. But this model would probably benefit greatly from tuning. \n",
    "\n",
    "For the **Negative** reviews, the `SVC` has worse precision but slightly higher recall. For **Positive** reviews the precision is the same as before but the recall is far far worse (64% for LR vs 47% for SVC). \n",
    "\n",
    "SVC is still performing better on negative reviews over positive reviews but it performs worse on the validation set than `Logistic Regression`. However, the model needs a tuning before I'd really be able to compare fairly. "
   ]
  },
  {
   "cell_type": "markdown",
   "metadata": {},
   "source": [
    "## Random Forest"
   ]
  },
  {
   "cell_type": "markdown",
   "metadata": {},
   "source": [
    "### train set "
   ]
  },
  {
   "cell_type": "code",
   "execution_count": 17,
   "metadata": {},
   "outputs": [
    {
     "name": "stdout",
     "output_type": "stream",
     "text": [
      "training time for random forest: 29.25 seconds.\n"
     ]
    }
   ],
   "source": [
    "start = time()\n",
    "rf = RandomForestClassifier(random_state=0).fit(X_train, y_train)\n",
    "stop = time()\n",
    "print(\"training time for random forest: {} seconds.\".format(round((stop - start), 2)))"
   ]
  },
  {
   "cell_type": "code",
   "execution_count": 19,
   "metadata": {},
   "outputs": [
    {
     "name": "stdout",
     "output_type": "stream",
     "text": [
      "Train accuracy: 100.0 %\n"
     ]
    }
   ],
   "source": [
    "acc = round(rf.score(X_train, y_train), 2)*100\n",
    "print('Train accuracy: {} %'.format(acc))"
   ]
  },
  {
   "cell_type": "code",
   "execution_count": 21,
   "metadata": {},
   "outputs": [
    {
     "data": {
      "text/plain": [
       "<sklearn.metrics._plot.confusion_matrix.ConfusionMatrixDisplay at 0x127e5abe0>"
      ]
     },
     "execution_count": 21,
     "metadata": {},
     "output_type": "execute_result"
    },
    {
     "data": {
      "image/png": "[encoded data removed]",
      "text/plain": [
       "<Figure size 432x288 with 2 Axes>"
      ]
     },
     "metadata": {
      "needs_background": "light"
     },
     "output_type": "display_data"
    }
   ],
   "source": [
    "### confusion matrix\n",
    "plot_confusion_matrix(estimator=rf, X=X_train, y_true=y_train)"
   ]
  },
  {
   "cell_type": "code",
   "execution_count": 22,
   "metadata": {},
   "outputs": [
    {
     "data": {
      "text/html": [
       "<div>\n",
       "<style scoped>\n",
       "    .dataframe tbody tr th:only-of-type {\n",
       "        vertical-align: middle;\n",
       "    }\n",
       "\n",
       "    .dataframe tbody tr th {\n",
       "        vertical-align: top;\n",
       "    }\n",
       "\n",
       "    .dataframe thead th {\n",
       "        text-align: right;\n",
       "    }\n",
       "</style>\n",
       "<table border=\"1\" class=\"dataframe\">\n",
       "  <thead>\n",
       "    <tr style=\"text-align: right;\">\n",
       "      <th></th>\n",
       "      <th>neg_reviews</th>\n",
       "      <th>pos_reivews</th>\n",
       "    </tr>\n",
       "  </thead>\n",
       "  <tbody>\n",
       "    <tr>\n",
       "      <th>precision</th>\n",
       "      <td>1.0</td>\n",
       "      <td>1.0</td>\n",
       "    </tr>\n",
       "    <tr>\n",
       "      <th>recall</th>\n",
       "      <td>1.0</td>\n",
       "      <td>1.0</td>\n",
       "    </tr>\n",
       "    <tr>\n",
       "      <th>f1_score</th>\n",
       "      <td>1.0</td>\n",
       "      <td>1.0</td>\n",
       "    </tr>\n",
       "    <tr>\n",
       "      <th>count_of_reviews</th>\n",
       "      <td>20019.0</td>\n",
       "      <td>19981.0</td>\n",
       "    </tr>\n",
       "  </tbody>\n",
       "</table>\n",
       "</div>"
      ],
      "text/plain": [
       "                  neg_reviews  pos_reivews\n",
       "precision                 1.0          1.0\n",
       "recall                    1.0          1.0\n",
       "f1_score                  1.0          1.0\n",
       "count_of_reviews      20019.0      19981.0"
      ]
     },
     "execution_count": 22,
     "metadata": {},
     "output_type": "execute_result"
    }
   ],
   "source": [
    "# get model predictions \n",
    "y_pred = rf.predict(X_train)\n",
    "metrics = precision_recall_fscore_support(y_true=y_train, y_pred=y_pred)\n",
    "imdb.display_metrics(metrics)"
   ]
  },
  {
   "cell_type": "markdown",
   "metadata": {},
   "source": [
    "### validation set "
   ]
  },
  {
   "cell_type": "code",
   "execution_count": 23,
   "metadata": {},
   "outputs": [
    {
     "name": "stdout",
     "output_type": "stream",
     "text": [
      "Validation accuracy: 68.0 %\n"
     ]
    }
   ],
   "source": [
    "acc = round(rf.score(X_valid, y_valid), 2)*100\n",
    "print('Validation accuracy: {} %'.format(acc))"
   ]
  },
  {
   "cell_type": "code",
   "execution_count": 24,
   "metadata": {},
   "outputs": [
    {
     "data": {
      "text/plain": [
       "<sklearn.metrics._plot.confusion_matrix.ConfusionMatrixDisplay at 0x10abff0d0>"
      ]
     },
     "execution_count": 24,
     "metadata": {},
     "output_type": "execute_result"
    },
    {
     "data": {
      "image/png": "[encoded data removed]",
      "text/plain": [
       "<Figure size 432x288 with 2 Axes>"
      ]
     },
     "metadata": {
      "needs_background": "light"
     },
     "output_type": "display_data"
    }
   ],
   "source": [
    "### confusion matrix\n",
    "plot_confusion_matrix(estimator=rf, X=X_valid, y_true=y_valid)"
   ]
  },
  {
   "cell_type": "code",
   "execution_count": 25,
   "metadata": {},
   "outputs": [
    {
     "data": {
      "text/html": [
       "<div>\n",
       "<style scoped>\n",
       "    .dataframe tbody tr th:only-of-type {\n",
       "        vertical-align: middle;\n",
       "    }\n",
       "\n",
       "    .dataframe tbody tr th {\n",
       "        vertical-align: top;\n",
       "    }\n",
       "\n",
       "    .dataframe thead th {\n",
       "        text-align: right;\n",
       "    }\n",
       "</style>\n",
       "<table border=\"1\" class=\"dataframe\">\n",
       "  <thead>\n",
       "    <tr style=\"text-align: right;\">\n",
       "      <th></th>\n",
       "      <th>neg_reviews</th>\n",
       "      <th>pos_reivews</th>\n",
       "    </tr>\n",
       "  </thead>\n",
       "  <tbody>\n",
       "    <tr>\n",
       "      <th>precision</th>\n",
       "      <td>0.696367</td>\n",
       "      <td>0.674107</td>\n",
       "    </tr>\n",
       "    <tr>\n",
       "      <th>recall</th>\n",
       "      <td>0.647627</td>\n",
       "      <td>0.720764</td>\n",
       "    </tr>\n",
       "    <tr>\n",
       "      <th>f1_score</th>\n",
       "      <td>0.671113</td>\n",
       "      <td>0.696655</td>\n",
       "    </tr>\n",
       "    <tr>\n",
       "      <th>count_of_reviews</th>\n",
       "      <td>2486.000000</td>\n",
       "      <td>2514.000000</td>\n",
       "    </tr>\n",
       "  </tbody>\n",
       "</table>\n",
       "</div>"
      ],
      "text/plain": [
       "                  neg_reviews  pos_reivews\n",
       "precision            0.696367     0.674107\n",
       "recall               0.647627     0.720764\n",
       "f1_score             0.671113     0.696655\n",
       "count_of_reviews  2486.000000  2514.000000"
      ]
     },
     "execution_count": 25,
     "metadata": {},
     "output_type": "execute_result"
    }
   ],
   "source": [
    "y_valid_pred = rf.predict(X_valid)\n",
    "metrics = precision_recall_fscore_support(y_true=y_valid, y_pred=y_valid_pred)\n",
    "imdb.display_metrics(metrics)"
   ]
  },
  {
   "cell_type": "markdown",
   "metadata": {},
   "source": [
    "### Summary \n",
    "Off the shelf, the `Random Forest` is performing more equally on the **positive** vs **negative** reviews. Overall, it performs slighly better on **positive reviews** than **negative** reviews.\n",
    "\n",
    "Compared to `SVC` it is performing quite a bit worse in general but again hyperparameter tuning should improve it as currently the `Random Forest` model is severely overfitting.  "
   ]
  },
  {
   "cell_type": "code",
   "execution_count": null,
   "metadata": {},
   "outputs": [],
   "source": []
  }
 ],
 "metadata": {
  "kernelspec": {
   "display_name": "Python 3",
   "language": "python",
   "name": "python3"
  },
  "language_info": {
   "codemirror_mode": {
    "name": "ipython",
    "version": 3
   },
   "file_extension": ".py",
   "mimetype": "text/x-python",
   "name": "python",
   "nbconvert_exporter": "python",
   "pygments_lexer": "ipython3",
   "version": "3.8.6"
  }
 },
 "nbformat": 4,
 "nbformat_minor": 4
}
