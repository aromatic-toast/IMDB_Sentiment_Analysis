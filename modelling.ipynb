{
 "cells": [
  {
   "cell_type": "markdown",
   "metadata": {},
   "source": [
    "# Sentiment Prediction on IMDB \n",
    "\n",
    "**The Plan**\n",
    "\n",
    "Compare `CountVectorizer` to `Doc2Vec` using 2-3 different classifiers models to predict movie review sentiment label. \n",
    "- Logistic Regression \n",
    "- SVM\n",
    "- Random Forest"
   ]
  },
  {
   "cell_type": "markdown",
   "metadata": {},
   "source": [
    "## import packages "
   ]
  },
  {
   "cell_type": "code",
   "execution_count": 39,
   "metadata": {},
   "outputs": [],
   "source": [
    "import pandas as pd\n",
    "from time import time\n",
    "import sys\n",
    "sys.path.append(\"/Users/lesleymi/data_science_tutorials/IMDB_Sentiment_Analysis/src\")\n",
    "import imdb_functions as imdb\n",
    "\n",
    "# models \n",
    "from sklearn.linear_model import LogisticRegression\n",
    "from sklearn.svm import SVC\n",
    "from sklearn.ensemble import RandomForestClassifier\n",
    "\n",
    "# evaluation \n",
    "from sklearn.metrics import confusion_matrix\n",
    "from sklearn.metrics import plot_confusion_matrix\n",
    "from sklearn.metrics import precision_recall_fscore_support"
   ]
  },
  {
   "cell_type": "markdown",
   "metadata": {},
   "source": [
    "## load data "
   ]
  },
  {
   "cell_type": "markdown",
   "metadata": {},
   "source": [
    "### train"
   ]
  },
  {
   "cell_type": "code",
   "execution_count": 40,
   "metadata": {},
   "outputs": [],
   "source": [
    "# load extracted doc2vec vectors \n",
    "X_train = pd.read_csv(\"data/train_d2v.csv\").drop(labels='Unnamed: 0', axis=1)\n",
    "y_train = pd.read_csv('data/Train.csv').label"
   ]
  },
  {
   "cell_type": "code",
   "execution_count": 41,
   "metadata": {},
   "outputs": [
    {
     "data": {
      "text/html": [
       "<div>\n",
       "<style scoped>\n",
       "    .dataframe tbody tr th:only-of-type {\n",
       "        vertical-align: middle;\n",
       "    }\n",
       "\n",
       "    .dataframe tbody tr th {\n",
       "        vertical-align: top;\n",
       "    }\n",
       "\n",
       "    .dataframe thead th {\n",
       "        text-align: right;\n",
       "    }\n",
       "</style>\n",
       "<table border=\"1\" class=\"dataframe\">\n",
       "  <thead>\n",
       "    <tr style=\"text-align: right;\">\n",
       "      <th></th>\n",
       "      <th>dim_0</th>\n",
       "      <th>dim_1</th>\n",
       "      <th>dim_2</th>\n",
       "      <th>dim_3</th>\n",
       "      <th>dim_4</th>\n",
       "      <th>dim_5</th>\n",
       "      <th>dim_6</th>\n",
       "      <th>dim_7</th>\n",
       "      <th>dim_8</th>\n",
       "      <th>dim_9</th>\n",
       "      <th>...</th>\n",
       "      <th>dim_90</th>\n",
       "      <th>dim_91</th>\n",
       "      <th>dim_92</th>\n",
       "      <th>dim_93</th>\n",
       "      <th>dim_94</th>\n",
       "      <th>dim_95</th>\n",
       "      <th>dim_96</th>\n",
       "      <th>dim_97</th>\n",
       "      <th>dim_98</th>\n",
       "      <th>dim_99</th>\n",
       "    </tr>\n",
       "  </thead>\n",
       "  <tbody>\n",
       "    <tr>\n",
       "      <th>0</th>\n",
       "      <td>0.269958</td>\n",
       "      <td>0.847406</td>\n",
       "      <td>2.714277</td>\n",
       "      <td>-2.765047</td>\n",
       "      <td>0.373950</td>\n",
       "      <td>-0.494348</td>\n",
       "      <td>0.817959</td>\n",
       "      <td>-0.402494</td>\n",
       "      <td>-3.530908</td>\n",
       "      <td>0.710748</td>\n",
       "      <td>...</td>\n",
       "      <td>1.506851</td>\n",
       "      <td>-0.538074</td>\n",
       "      <td>3.387396</td>\n",
       "      <td>0.259887</td>\n",
       "      <td>-3.457242</td>\n",
       "      <td>-1.270991</td>\n",
       "      <td>0.535235</td>\n",
       "      <td>2.091433</td>\n",
       "      <td>0.851161</td>\n",
       "      <td>1.137199</td>\n",
       "    </tr>\n",
       "    <tr>\n",
       "      <th>1</th>\n",
       "      <td>2.603584</td>\n",
       "      <td>0.541296</td>\n",
       "      <td>1.023834</td>\n",
       "      <td>2.453051</td>\n",
       "      <td>-1.995571</td>\n",
       "      <td>-1.946021</td>\n",
       "      <td>0.777122</td>\n",
       "      <td>-2.054727</td>\n",
       "      <td>-3.207275</td>\n",
       "      <td>-0.990673</td>\n",
       "      <td>...</td>\n",
       "      <td>-2.703269</td>\n",
       "      <td>-1.207402</td>\n",
       "      <td>2.633590</td>\n",
       "      <td>1.170781</td>\n",
       "      <td>-4.261691</td>\n",
       "      <td>1.330964</td>\n",
       "      <td>-2.507479</td>\n",
       "      <td>-0.525997</td>\n",
       "      <td>0.594963</td>\n",
       "      <td>-1.341612</td>\n",
       "    </tr>\n",
       "  </tbody>\n",
       "</table>\n",
       "<p>2 rows × 100 columns</p>\n",
       "</div>"
      ],
      "text/plain": [
       "      dim_0     dim_1     dim_2     dim_3     dim_4     dim_5     dim_6  \\\n",
       "0  0.269958  0.847406  2.714277 -2.765047  0.373950 -0.494348  0.817959   \n",
       "1  2.603584  0.541296  1.023834  2.453051 -1.995571 -1.946021  0.777122   \n",
       "\n",
       "      dim_7     dim_8     dim_9  ...    dim_90    dim_91    dim_92    dim_93  \\\n",
       "0 -0.402494 -3.530908  0.710748  ...  1.506851 -0.538074  3.387396  0.259887   \n",
       "1 -2.054727 -3.207275 -0.990673  ... -2.703269 -1.207402  2.633590  1.170781   \n",
       "\n",
       "     dim_94    dim_95    dim_96    dim_97    dim_98    dim_99  \n",
       "0 -3.457242 -1.270991  0.535235  2.091433  0.851161  1.137199  \n",
       "1 -4.261691  1.330964 -2.507479 -0.525997  0.594963 -1.341612  \n",
       "\n",
       "[2 rows x 100 columns]"
      ]
     },
     "execution_count": 41,
     "metadata": {},
     "output_type": "execute_result"
    }
   ],
   "source": [
    "X_train.head(2)"
   ]
  },
  {
   "cell_type": "markdown",
   "metadata": {},
   "source": [
    "### validation "
   ]
  },
  {
   "cell_type": "code",
   "execution_count": 42,
   "metadata": {},
   "outputs": [],
   "source": [
    "# load d2v vectors for valid set \n",
    "X_valid = pd.read_csv(\"data/valid_d2v.csv\").drop(labels='Unnamed: 0', axis=1)\n",
    "y_valid = pd.read_csv(\"data/Valid.csv\").label"
   ]
  },
  {
   "cell_type": "code",
   "execution_count": 43,
   "metadata": {},
   "outputs": [
    {
     "data": {
      "text/html": [
       "<div>\n",
       "<style scoped>\n",
       "    .dataframe tbody tr th:only-of-type {\n",
       "        vertical-align: middle;\n",
       "    }\n",
       "\n",
       "    .dataframe tbody tr th {\n",
       "        vertical-align: top;\n",
       "    }\n",
       "\n",
       "    .dataframe thead th {\n",
       "        text-align: right;\n",
       "    }\n",
       "</style>\n",
       "<table border=\"1\" class=\"dataframe\">\n",
       "  <thead>\n",
       "    <tr style=\"text-align: right;\">\n",
       "      <th></th>\n",
       "      <th>dim_0</th>\n",
       "      <th>dim_1</th>\n",
       "      <th>dim_2</th>\n",
       "      <th>dim_3</th>\n",
       "      <th>dim_4</th>\n",
       "      <th>dim_5</th>\n",
       "      <th>dim_6</th>\n",
       "      <th>dim_7</th>\n",
       "      <th>dim_8</th>\n",
       "      <th>dim_9</th>\n",
       "      <th>...</th>\n",
       "      <th>dim_90</th>\n",
       "      <th>dim_91</th>\n",
       "      <th>dim_92</th>\n",
       "      <th>dim_93</th>\n",
       "      <th>dim_94</th>\n",
       "      <th>dim_95</th>\n",
       "      <th>dim_96</th>\n",
       "      <th>dim_97</th>\n",
       "      <th>dim_98</th>\n",
       "      <th>dim_99</th>\n",
       "    </tr>\n",
       "  </thead>\n",
       "  <tbody>\n",
       "    <tr>\n",
       "      <th>0</th>\n",
       "      <td>-4.066204</td>\n",
       "      <td>2.594942</td>\n",
       "      <td>-4.245735</td>\n",
       "      <td>4.462601</td>\n",
       "      <td>8.635210</td>\n",
       "      <td>-0.924835</td>\n",
       "      <td>7.683443</td>\n",
       "      <td>0.952837</td>\n",
       "      <td>3.264279</td>\n",
       "      <td>1.862702</td>\n",
       "      <td>...</td>\n",
       "      <td>4.318605</td>\n",
       "      <td>2.561746</td>\n",
       "      <td>1.066731</td>\n",
       "      <td>-3.686950</td>\n",
       "      <td>-3.049759</td>\n",
       "      <td>-6.981318</td>\n",
       "      <td>-10.714000</td>\n",
       "      <td>-6.041323</td>\n",
       "      <td>3.319085</td>\n",
       "      <td>-6.274211</td>\n",
       "    </tr>\n",
       "    <tr>\n",
       "      <th>1</th>\n",
       "      <td>-3.841133</td>\n",
       "      <td>-1.201610</td>\n",
       "      <td>-2.256248</td>\n",
       "      <td>0.559345</td>\n",
       "      <td>4.665877</td>\n",
       "      <td>-4.756668</td>\n",
       "      <td>3.231162</td>\n",
       "      <td>-0.455631</td>\n",
       "      <td>-0.486202</td>\n",
       "      <td>-1.635700</td>\n",
       "      <td>...</td>\n",
       "      <td>3.377770</td>\n",
       "      <td>0.079804</td>\n",
       "      <td>-0.620363</td>\n",
       "      <td>-0.342946</td>\n",
       "      <td>0.660628</td>\n",
       "      <td>-2.027951</td>\n",
       "      <td>-2.596628</td>\n",
       "      <td>-1.875848</td>\n",
       "      <td>0.706689</td>\n",
       "      <td>2.000733</td>\n",
       "    </tr>\n",
       "  </tbody>\n",
       "</table>\n",
       "<p>2 rows × 100 columns</p>\n",
       "</div>"
      ],
      "text/plain": [
       "      dim_0     dim_1     dim_2     dim_3     dim_4     dim_5     dim_6  \\\n",
       "0 -4.066204  2.594942 -4.245735  4.462601  8.635210 -0.924835  7.683443   \n",
       "1 -3.841133 -1.201610 -2.256248  0.559345  4.665877 -4.756668  3.231162   \n",
       "\n",
       "      dim_7     dim_8     dim_9  ...    dim_90    dim_91    dim_92    dim_93  \\\n",
       "0  0.952837  3.264279  1.862702  ...  4.318605  2.561746  1.066731 -3.686950   \n",
       "1 -0.455631 -0.486202 -1.635700  ...  3.377770  0.079804 -0.620363 -0.342946   \n",
       "\n",
       "     dim_94    dim_95     dim_96    dim_97    dim_98    dim_99  \n",
       "0 -3.049759 -6.981318 -10.714000 -6.041323  3.319085 -6.274211  \n",
       "1  0.660628 -2.027951  -2.596628 -1.875848  0.706689  2.000733  \n",
       "\n",
       "[2 rows x 100 columns]"
      ]
     },
     "execution_count": 43,
     "metadata": {},
     "output_type": "execute_result"
    }
   ],
   "source": [
    "X_valid.head(2)"
   ]
  },
  {
   "cell_type": "markdown",
   "metadata": {},
   "source": [
    "## Logistic Regression \n"
   ]
  },
  {
   "cell_type": "markdown",
   "metadata": {},
   "source": [
    "### train set "
   ]
  },
  {
   "cell_type": "code",
   "execution_count": 44,
   "metadata": {},
   "outputs": [
    {
     "name": "stdout",
     "output_type": "stream",
     "text": [
      "training time for logistic regression... 0.23 seconds\n"
     ]
    }
   ],
   "source": [
    "start = time()\n",
    "lr = LogisticRegression(random_state=0).fit(X_train, y_train)\n",
    "stop = time()\n",
    "print(\"training time for logistic regression... {} seconds\".format(round(stop - start, 2)))"
   ]
  },
  {
   "cell_type": "code",
   "execution_count": 45,
   "metadata": {},
   "outputs": [
    {
     "name": "stdout",
     "output_type": "stream",
     "text": [
      "Train accuracy: 86.0 %\n"
     ]
    }
   ],
   "source": [
    "acc = round(lr.score(X_train, y_train), 2)*100\n",
    "print('Train accuracy: {} %'.format(acc))"
   ]
  },
  {
   "cell_type": "code",
   "execution_count": 46,
   "metadata": {},
   "outputs": [
    {
     "data": {
      "text/plain": [
       "<sklearn.metrics._plot.confusion_matrix.ConfusionMatrixDisplay at 0x12bddcdf0>"
      ]
     },
     "execution_count": 46,
     "metadata": {},
     "output_type": "execute_result"
    },
    {
     "data": {
      "image/png": "[encoded data removed]",
      "text/plain": [
       "<Figure size 432x288 with 2 Axes>"
      ]
     },
     "metadata": {
      "needs_background": "light"
     },
     "output_type": "display_data"
    }
   ],
   "source": [
    "### confusion matrix\n",
    "plot_confusion_matrix(estimator=lr, X=X_train, y_true=y_train)"
   ]
  },
  {
   "cell_type": "code",
   "execution_count": 47,
   "metadata": {},
   "outputs": [
    {
     "data": {
      "text/plain": [
       "(array([0.8631437, 0.8629561]),\n",
       " array([0.86322993, 0.86286973]),\n",
       " array([0.86318681, 0.86291291]),\n",
       " array([20019, 19981]))"
      ]
     },
     "execution_count": 47,
     "metadata": {},
     "output_type": "execute_result"
    }
   ],
   "source": [
    "# get model predictions \n",
    "y_pred = lr.predict(X_train)\n",
    "metrics = precision_recall_fscore_support(y_true=y_train, y_pred=y_pred)\n",
    "metrics"
   ]
  },
  {
   "cell_type": "code",
   "execution_count": 48,
   "metadata": {},
   "outputs": [
    {
     "data": {
      "text/html": [
       "<div>\n",
       "<style scoped>\n",
       "    .dataframe tbody tr th:only-of-type {\n",
       "        vertical-align: middle;\n",
       "    }\n",
       "\n",
       "    .dataframe tbody tr th {\n",
       "        vertical-align: top;\n",
       "    }\n",
       "\n",
       "    .dataframe thead th {\n",
       "        text-align: right;\n",
       "    }\n",
       "</style>\n",
       "<table border=\"1\" class=\"dataframe\">\n",
       "  <thead>\n",
       "    <tr style=\"text-align: right;\">\n",
       "      <th></th>\n",
       "      <th>neg_reviews</th>\n",
       "      <th>pos_reivews</th>\n",
       "    </tr>\n",
       "  </thead>\n",
       "  <tbody>\n",
       "    <tr>\n",
       "      <th>precision</th>\n",
       "      <td>0.863144</td>\n",
       "      <td>0.862956</td>\n",
       "    </tr>\n",
       "    <tr>\n",
       "      <th>recall</th>\n",
       "      <td>0.863230</td>\n",
       "      <td>0.862870</td>\n",
       "    </tr>\n",
       "    <tr>\n",
       "      <th>f1_score</th>\n",
       "      <td>0.863187</td>\n",
       "      <td>0.862913</td>\n",
       "    </tr>\n",
       "    <tr>\n",
       "      <th>count_of_reviews</th>\n",
       "      <td>20019.000000</td>\n",
       "      <td>19981.000000</td>\n",
       "    </tr>\n",
       "  </tbody>\n",
       "</table>\n",
       "</div>"
      ],
      "text/plain": [
       "                   neg_reviews   pos_reivews\n",
       "precision             0.863144      0.862956\n",
       "recall                0.863230      0.862870\n",
       "f1_score              0.863187      0.862913\n",
       "count_of_reviews  20019.000000  19981.000000"
      ]
     },
     "execution_count": 48,
     "metadata": {},
     "output_type": "execute_result"
    }
   ],
   "source": [
    "imdb.display_metrics(metrics)"
   ]
  },
  {
   "cell_type": "markdown",
   "metadata": {},
   "source": [
    "### validation set "
   ]
  },
  {
   "cell_type": "code",
   "execution_count": 49,
   "metadata": {},
   "outputs": [
    {
     "name": "stdout",
     "output_type": "stream",
     "text": [
      "Validation accuracy: 79.0 %\n"
     ]
    }
   ],
   "source": [
    "acc = round(lr.score(X_valid, y_valid), 2)*100\n",
    "print('Validation accuracy: {} %'.format(acc))"
   ]
  },
  {
   "cell_type": "code",
   "execution_count": 50,
   "metadata": {},
   "outputs": [
    {
     "data": {
      "text/plain": [
       "<sklearn.metrics._plot.confusion_matrix.ConfusionMatrixDisplay at 0x12bee9850>"
      ]
     },
     "execution_count": 50,
     "metadata": {},
     "output_type": "execute_result"
    },
    {
     "data": {
      "image/png": "[encoded data removed]",
      "text/plain": [
       "<Figure size 432x288 with 2 Axes>"
      ]
     },
     "metadata": {
      "needs_background": "light"
     },
     "output_type": "display_data"
    }
   ],
   "source": [
    "### confusion matrix\n",
    "plot_confusion_matrix(estimator=lr, X=X_valid, y_true=y_valid)"
   ]
  },
  {
   "cell_type": "code",
   "execution_count": 51,
   "metadata": {},
   "outputs": [
    {
     "data": {
      "text/html": [
       "<div>\n",
       "<style scoped>\n",
       "    .dataframe tbody tr th:only-of-type {\n",
       "        vertical-align: middle;\n",
       "    }\n",
       "\n",
       "    .dataframe tbody tr th {\n",
       "        vertical-align: top;\n",
       "    }\n",
       "\n",
       "    .dataframe thead th {\n",
       "        text-align: right;\n",
       "    }\n",
       "</style>\n",
       "<table border=\"1\" class=\"dataframe\">\n",
       "  <thead>\n",
       "    <tr style=\"text-align: right;\">\n",
       "      <th></th>\n",
       "      <th>neg_reviews</th>\n",
       "      <th>pos_reivews</th>\n",
       "    </tr>\n",
       "  </thead>\n",
       "  <tbody>\n",
       "    <tr>\n",
       "      <th>precision</th>\n",
       "      <td>0.715274</td>\n",
       "      <td>0.936081</td>\n",
       "    </tr>\n",
       "    <tr>\n",
       "      <th>recall</th>\n",
       "      <td>0.956959</td>\n",
       "      <td>0.623309</td>\n",
       "    </tr>\n",
       "    <tr>\n",
       "      <th>f1_score</th>\n",
       "      <td>0.818651</td>\n",
       "      <td>0.748329</td>\n",
       "    </tr>\n",
       "    <tr>\n",
       "      <th>count_of_reviews</th>\n",
       "      <td>2486.000000</td>\n",
       "      <td>2514.000000</td>\n",
       "    </tr>\n",
       "  </tbody>\n",
       "</table>\n",
       "</div>"
      ],
      "text/plain": [
       "                  neg_reviews  pos_reivews\n",
       "precision            0.715274     0.936081\n",
       "recall               0.956959     0.623309\n",
       "f1_score             0.818651     0.748329\n",
       "count_of_reviews  2486.000000  2514.000000"
      ]
     },
     "execution_count": 51,
     "metadata": {},
     "output_type": "execute_result"
    }
   ],
   "source": [
    "y_valid_pred = lr.predict(X_valid)\n",
    "metrics = precision_recall_fscore_support(y_true=y_valid, y_pred=y_valid_pred)\n",
    "imdb.display_metrics(metrics)"
   ]
  },
  {
   "cell_type": "markdown",
   "metadata": {},
   "source": [
    "### Summary \n",
    "**Logistic regression** \n",
    "\n",
    "For **negative** reviews, the precision is 72% meaning that when the classifier predicts the positive label, it correctly identifies the negative review 72% of the time. The recall is much higher at 95%. Out of the truly negative reviews, the classifier correctly identifies them 95% of the time. \n",
    "\n",
    "For **positive** reviews, the precision is much higher at ~ 93%. But the recall is much lower at 64% meaning that out of the positive reviews, the classifier correctly identifies that it is positive 64% of the time. \n",
    "\n",
    "F1 score for **negative** reviews is 82% and the F1 score for **positive** reviews is ~ 76%. So overall, before any hyperparameter tuning, the `Logistic Regression` model performs better at identifying **negative** reviews. "
   ]
  },
  {
   "cell_type": "markdown",
   "metadata": {},
   "source": [
    "## Support Vector Machine \n",
    "\n"
   ]
  },
  {
   "cell_type": "markdown",
   "metadata": {},
   "source": [
    "### train set "
   ]
  },
  {
   "cell_type": "code",
   "execution_count": 52,
   "metadata": {},
   "outputs": [
    {
     "name": "stdout",
     "output_type": "stream",
     "text": [
      "training time for support vector machine: 211.21 seconds.\n"
     ]
    }
   ],
   "source": [
    "start = time()\n",
    "svc = SVC(random_state=0).fit(X_train, y_train)\n",
    "stop = time()\n",
    "print(\"training time for support vector machine: {} seconds.\".format(round((stop - start), 2)))"
   ]
  },
  {
   "cell_type": "code",
   "execution_count": 53,
   "metadata": {},
   "outputs": [
    {
     "name": "stdout",
     "output_type": "stream",
     "text": [
      "training time for support vector machine: 3.52 minutes.\n"
     ]
    }
   ],
   "source": [
    "train_time = round((stop - start)/60, 2)\n",
    "print('training time for support vector machine: {} minutes.'.format(train_time))"
   ]
  },
  {
   "cell_type": "markdown",
   "metadata": {},
   "source": [
    "**Note:**\n",
    "\n",
    "**The train accuracy score and the plot of the confusion matrix each took a few minutes each to compute! In contrast to logistic regression which was practically instantaneous.**"
   ]
  },
  {
   "cell_type": "code",
   "execution_count": 54,
   "metadata": {},
   "outputs": [
    {
     "name": "stdout",
     "output_type": "stream",
     "text": [
      "Train accuracy: 93.0 %\n"
     ]
    }
   ],
   "source": [
    "acc = round(svc.score(X_train, y_train), 2)*100\n",
    "print('Train accuracy: {} %'.format(acc))"
   ]
  },
  {
   "cell_type": "code",
   "execution_count": 55,
   "metadata": {},
   "outputs": [
    {
     "data": {
      "text/plain": [
       "<sklearn.metrics._plot.confusion_matrix.ConfusionMatrixDisplay at 0x12c005c70>"
      ]
     },
     "execution_count": 55,
     "metadata": {},
     "output_type": "execute_result"
    },
    {
     "data": {
      "image/png": "[encoded data removed]",
      "text/plain": [
       "<Figure size 432x288 with 2 Axes>"
      ]
     },
     "metadata": {
      "needs_background": "light"
     },
     "output_type": "display_data"
    }
   ],
   "source": [
    "### confusion matrix\n",
    "plot_confusion_matrix(estimator=svc, X=X_train, y_true=y_train)"
   ]
  },
  {
   "cell_type": "code",
   "execution_count": 56,
   "metadata": {},
   "outputs": [
    {
     "data": {
      "text/html": [
       "<div>\n",
       "<style scoped>\n",
       "    .dataframe tbody tr th:only-of-type {\n",
       "        vertical-align: middle;\n",
       "    }\n",
       "\n",
       "    .dataframe tbody tr th {\n",
       "        vertical-align: top;\n",
       "    }\n",
       "\n",
       "    .dataframe thead th {\n",
       "        text-align: right;\n",
       "    }\n",
       "</style>\n",
       "<table border=\"1\" class=\"dataframe\">\n",
       "  <thead>\n",
       "    <tr style=\"text-align: right;\">\n",
       "      <th></th>\n",
       "      <th>neg_reviews</th>\n",
       "      <th>pos_reivews</th>\n",
       "    </tr>\n",
       "  </thead>\n",
       "  <tbody>\n",
       "    <tr>\n",
       "      <th>precision</th>\n",
       "      <td>0.925366</td>\n",
       "      <td>0.926888</td>\n",
       "    </tr>\n",
       "    <tr>\n",
       "      <th>recall</th>\n",
       "      <td>0.927169</td>\n",
       "      <td>0.925079</td>\n",
       "    </tr>\n",
       "    <tr>\n",
       "      <th>f1_score</th>\n",
       "      <td>0.926267</td>\n",
       "      <td>0.925983</td>\n",
       "    </tr>\n",
       "    <tr>\n",
       "      <th>count_of_reviews</th>\n",
       "      <td>20019.000000</td>\n",
       "      <td>19981.000000</td>\n",
       "    </tr>\n",
       "  </tbody>\n",
       "</table>\n",
       "</div>"
      ],
      "text/plain": [
       "                   neg_reviews   pos_reivews\n",
       "precision             0.925366      0.926888\n",
       "recall                0.927169      0.925079\n",
       "f1_score              0.926267      0.925983\n",
       "count_of_reviews  20019.000000  19981.000000"
      ]
     },
     "execution_count": 56,
     "metadata": {},
     "output_type": "execute_result"
    }
   ],
   "source": [
    "# get model predictions \n",
    "y_pred = svc.predict(X_train)\n",
    "metrics = precision_recall_fscore_support(y_true=y_train, y_pred=y_pred)\n",
    "imdb.display_metrics(metrics)"
   ]
  },
  {
   "cell_type": "markdown",
   "metadata": {},
   "source": [
    "### validation set "
   ]
  },
  {
   "cell_type": "code",
   "execution_count": 57,
   "metadata": {},
   "outputs": [
    {
     "name": "stdout",
     "output_type": "stream",
     "text": [
      "Validation accuracy: 78.0 %\n"
     ]
    }
   ],
   "source": [
    "acc = round(svc.score(X_valid, y_valid), 2)*100\n",
    "print('Validation accuracy: {} %'.format(acc))"
   ]
  },
  {
   "cell_type": "code",
   "execution_count": 58,
   "metadata": {},
   "outputs": [
    {
     "data": {
      "text/plain": [
       "<sklearn.metrics._plot.confusion_matrix.ConfusionMatrixDisplay at 0x12c09dc10>"
      ]
     },
     "execution_count": 58,
     "metadata": {},
     "output_type": "execute_result"
    },
    {
     "data": {
      "image/png": "[encoded data removed]",
      "text/plain": [
       "<Figure size 432x288 with 2 Axes>"
      ]
     },
     "metadata": {
      "needs_background": "light"
     },
     "output_type": "display_data"
    }
   ],
   "source": [
    "### confusion matrix\n",
    "plot_confusion_matrix(estimator=svc, X=X_valid, y_true=y_valid)"
   ]
  },
  {
   "cell_type": "code",
   "execution_count": 59,
   "metadata": {},
   "outputs": [
    {
     "data": {
      "text/html": [
       "<div>\n",
       "<style scoped>\n",
       "    .dataframe tbody tr th:only-of-type {\n",
       "        vertical-align: middle;\n",
       "    }\n",
       "\n",
       "    .dataframe tbody tr th {\n",
       "        vertical-align: top;\n",
       "    }\n",
       "\n",
       "    .dataframe thead th {\n",
       "        text-align: right;\n",
       "    }\n",
       "</style>\n",
       "<table border=\"1\" class=\"dataframe\">\n",
       "  <thead>\n",
       "    <tr style=\"text-align: right;\">\n",
       "      <th></th>\n",
       "      <th>neg_reviews</th>\n",
       "      <th>pos_reivews</th>\n",
       "    </tr>\n",
       "  </thead>\n",
       "  <tbody>\n",
       "    <tr>\n",
       "      <th>precision</th>\n",
       "      <td>0.729659</td>\n",
       "      <td>0.865779</td>\n",
       "    </tr>\n",
       "    <tr>\n",
       "      <th>recall</th>\n",
       "      <td>0.894610</td>\n",
       "      <td>0.672235</td>\n",
       "    </tr>\n",
       "    <tr>\n",
       "      <th>f1_score</th>\n",
       "      <td>0.803759</td>\n",
       "      <td>0.756829</td>\n",
       "    </tr>\n",
       "    <tr>\n",
       "      <th>count_of_reviews</th>\n",
       "      <td>2486.000000</td>\n",
       "      <td>2514.000000</td>\n",
       "    </tr>\n",
       "  </tbody>\n",
       "</table>\n",
       "</div>"
      ],
      "text/plain": [
       "                  neg_reviews  pos_reivews\n",
       "precision            0.729659     0.865779\n",
       "recall               0.894610     0.672235\n",
       "f1_score             0.803759     0.756829\n",
       "count_of_reviews  2486.000000  2514.000000"
      ]
     },
     "execution_count": 59,
     "metadata": {},
     "output_type": "execute_result"
    }
   ],
   "source": [
    "y_valid_pred = svc.predict(X_valid)\n",
    "metrics = precision_recall_fscore_support(y_true=y_valid, y_pred=y_valid_pred)\n",
    "imdb.display_metrics(metrics)"
   ]
  },
  {
   "cell_type": "markdown",
   "metadata": {},
   "source": [
    "### Summary "
   ]
  },
  {
   "cell_type": "markdown",
   "metadata": {},
   "source": [
    "Without any hyperparameter tuning `SVC` performs even better on the train set than `Logistic Regression` but even worse on the validation. There is a big gap in the accuracy between train and validation which indicates overfitting. But this model would probably benefit greatly from tuning. \n",
    "\n",
    "For the **Negative** reviews, the `SVC` has worse precision but slightly higher recall. For **Positive** reviews the precision is the same as before but the recall is far far worse (64% for LR vs 47% for SVC). \n",
    "\n",
    "SVC is still performing better on negative reviews over positive reviews but it performs worse on the validation set than `Logistic Regression`. However, the model needs a tuning before I'd really be able to compare fairly. "
   ]
  },
  {
   "cell_type": "markdown",
   "metadata": {},
   "source": [
    "## Random Forest"
   ]
  },
  {
   "cell_type": "markdown",
   "metadata": {},
   "source": [
    "### train set "
   ]
  },
  {
   "cell_type": "code",
   "execution_count": 60,
   "metadata": {},
   "outputs": [
    {
     "name": "stdout",
     "output_type": "stream",
     "text": [
      "training time for random forest: 75.48 seconds.\n"
     ]
    }
   ],
   "source": [
    "start = time()\n",
    "rf = RandomForestClassifier(random_state=0).fit(X_train, y_train)\n",
    "stop = time()\n",
    "print(\"training time for random forest: {} seconds.\".format(round((stop - start), 2)))"
   ]
  },
  {
   "cell_type": "code",
   "execution_count": 61,
   "metadata": {},
   "outputs": [
    {
     "name": "stdout",
     "output_type": "stream",
     "text": [
      "Train accuracy: 100.0 %\n"
     ]
    }
   ],
   "source": [
    "acc = round(rf.score(X_train, y_train), 2)*100\n",
    "print('Train accuracy: {} %'.format(acc))"
   ]
  },
  {
   "cell_type": "code",
   "execution_count": 62,
   "metadata": {},
   "outputs": [
    {
     "data": {
      "text/plain": [
       "<sklearn.metrics._plot.confusion_matrix.ConfusionMatrixDisplay at 0x12c11ae50>"
      ]
     },
     "execution_count": 62,
     "metadata": {},
     "output_type": "execute_result"
    },
    {
     "data": {
      "image/png": "[encoded data removed]",
      "text/plain": [
       "<Figure size 432x288 with 2 Axes>"
      ]
     },
     "metadata": {
      "needs_background": "light"
     },
     "output_type": "display_data"
    }
   ],
   "source": [
    "### confusion matrix\n",
    "plot_confusion_matrix(estimator=rf, X=X_train, y_true=y_train)"
   ]
  },
  {
   "cell_type": "code",
   "execution_count": 63,
   "metadata": {},
   "outputs": [
    {
     "data": {
      "text/html": [
       "<div>\n",
       "<style scoped>\n",
       "    .dataframe tbody tr th:only-of-type {\n",
       "        vertical-align: middle;\n",
       "    }\n",
       "\n",
       "    .dataframe tbody tr th {\n",
       "        vertical-align: top;\n",
       "    }\n",
       "\n",
       "    .dataframe thead th {\n",
       "        text-align: right;\n",
       "    }\n",
       "</style>\n",
       "<table border=\"1\" class=\"dataframe\">\n",
       "  <thead>\n",
       "    <tr style=\"text-align: right;\">\n",
       "      <th></th>\n",
       "      <th>neg_reviews</th>\n",
       "      <th>pos_reivews</th>\n",
       "    </tr>\n",
       "  </thead>\n",
       "  <tbody>\n",
       "    <tr>\n",
       "      <th>precision</th>\n",
       "      <td>1.0</td>\n",
       "      <td>1.0</td>\n",
       "    </tr>\n",
       "    <tr>\n",
       "      <th>recall</th>\n",
       "      <td>1.0</td>\n",
       "      <td>1.0</td>\n",
       "    </tr>\n",
       "    <tr>\n",
       "      <th>f1_score</th>\n",
       "      <td>1.0</td>\n",
       "      <td>1.0</td>\n",
       "    </tr>\n",
       "    <tr>\n",
       "      <th>count_of_reviews</th>\n",
       "      <td>20019.0</td>\n",
       "      <td>19981.0</td>\n",
       "    </tr>\n",
       "  </tbody>\n",
       "</table>\n",
       "</div>"
      ],
      "text/plain": [
       "                  neg_reviews  pos_reivews\n",
       "precision                 1.0          1.0\n",
       "recall                    1.0          1.0\n",
       "f1_score                  1.0          1.0\n",
       "count_of_reviews      20019.0      19981.0"
      ]
     },
     "execution_count": 63,
     "metadata": {},
     "output_type": "execute_result"
    }
   ],
   "source": [
    "# get model predictions \n",
    "y_pred = rf.predict(X_train)\n",
    "metrics = precision_recall_fscore_support(y_true=y_train, y_pred=y_pred)\n",
    "imdb.display_metrics(metrics)"
   ]
  },
  {
   "cell_type": "markdown",
   "metadata": {},
   "source": [
    "### validation set "
   ]
  },
  {
   "cell_type": "code",
   "execution_count": 64,
   "metadata": {},
   "outputs": [
    {
     "name": "stdout",
     "output_type": "stream",
     "text": [
      "Validation accuracy: 69.0 %\n"
     ]
    }
   ],
   "source": [
    "acc = round(rf.score(X_valid, y_valid), 2)*100\n",
    "print('Validation accuracy: {} %'.format(acc))"
   ]
  },
  {
   "cell_type": "code",
   "execution_count": 65,
   "metadata": {},
   "outputs": [
    {
     "data": {
      "text/plain": [
       "<sklearn.metrics._plot.confusion_matrix.ConfusionMatrixDisplay at 0x12bc37880>"
      ]
     },
     "execution_count": 65,
     "metadata": {},
     "output_type": "execute_result"
    },
    {
     "data": {
      "image/png": "[encoded data removed]",
      "text/plain": [
       "<Figure size 432x288 with 2 Axes>"
      ]
     },
     "metadata": {
      "needs_background": "light"
     },
     "output_type": "display_data"
    }
   ],
   "source": [
    "### confusion matrix\n",
    "plot_confusion_matrix(estimator=rf, X=X_valid, y_true=y_valid)"
   ]
  },
  {
   "cell_type": "code",
   "execution_count": 66,
   "metadata": {},
   "outputs": [
    {
     "data": {
      "text/html": [
       "<div>\n",
       "<style scoped>\n",
       "    .dataframe tbody tr th:only-of-type {\n",
       "        vertical-align: middle;\n",
       "    }\n",
       "\n",
       "    .dataframe tbody tr th {\n",
       "        vertical-align: top;\n",
       "    }\n",
       "\n",
       "    .dataframe thead th {\n",
       "        text-align: right;\n",
       "    }\n",
       "</style>\n",
       "<table border=\"1\" class=\"dataframe\">\n",
       "  <thead>\n",
       "    <tr style=\"text-align: right;\">\n",
       "      <th></th>\n",
       "      <th>neg_reviews</th>\n",
       "      <th>pos_reivews</th>\n",
       "    </tr>\n",
       "  </thead>\n",
       "  <tbody>\n",
       "    <tr>\n",
       "      <th>precision</th>\n",
       "      <td>0.704918</td>\n",
       "      <td>0.682327</td>\n",
       "    </tr>\n",
       "    <tr>\n",
       "      <th>recall</th>\n",
       "      <td>0.657281</td>\n",
       "      <td>0.727924</td>\n",
       "    </tr>\n",
       "    <tr>\n",
       "      <th>f1_score</th>\n",
       "      <td>0.680266</td>\n",
       "      <td>0.704388</td>\n",
       "    </tr>\n",
       "    <tr>\n",
       "      <th>count_of_reviews</th>\n",
       "      <td>2486.000000</td>\n",
       "      <td>2514.000000</td>\n",
       "    </tr>\n",
       "  </tbody>\n",
       "</table>\n",
       "</div>"
      ],
      "text/plain": [
       "                  neg_reviews  pos_reivews\n",
       "precision            0.704918     0.682327\n",
       "recall               0.657281     0.727924\n",
       "f1_score             0.680266     0.704388\n",
       "count_of_reviews  2486.000000  2514.000000"
      ]
     },
     "execution_count": 66,
     "metadata": {},
     "output_type": "execute_result"
    }
   ],
   "source": [
    "y_valid_pred = rf.predict(X_valid)\n",
    "metrics = precision_recall_fscore_support(y_true=y_valid, y_pred=y_valid_pred)\n",
    "imdb.display_metrics(metrics)"
   ]
  },
  {
   "cell_type": "markdown",
   "metadata": {},
   "source": [
    "### Summary \n",
    "Off the shelf, the `Random Forest` is performing more equally on the **positive** vs **negative** reviews. Overall, it performs slighly better on **positive reviews** than **negative** reviews.\n",
    "\n",
    "Compared to `SVC` it is performing quite a bit worse in general but again hyperparameter tuning should improve it as currently the `Random Forest` model is severely overfitting.  "
   ]
  },
  {
   "cell_type": "code",
   "execution_count": null,
   "metadata": {},
   "outputs": [],
   "source": []
  }
 ],
 "metadata": {
  "kernelspec": {
   "display_name": "Python 3",
   "language": "python",
   "name": "python3"
  },
  "language_info": {
   "codemirror_mode": {
    "name": "ipython",
    "version": 3
   },
   "file_extension": ".py",
   "mimetype": "text/x-python",
   "name": "python",
   "nbconvert_exporter": "python",
   "pygments_lexer": "ipython3",
   "version": "3.8.6"
  }
 },
 "nbformat": 4,
 "nbformat_minor": 4
}
